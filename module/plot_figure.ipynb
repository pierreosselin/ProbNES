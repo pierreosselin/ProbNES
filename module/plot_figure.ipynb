{
 "cells": [
  {
   "cell_type": "code",
   "execution_count": null,
   "metadata": {},
   "outputs": [],
   "source": [
    "with open(f'config/{args.config}.yaml', 'r') as file:\n",
    "    config = yaml.safe_load(file)\n",
    "    log_plot = args.log\n",
    "    plot_figure(config[\"save_dir\"], log_transform=log_plot)\n",
    "    plot_distribution_gif(config, n_seeds=1)\n",
    "    "
   ]
  }
 ],
 "metadata": {
  "language_info": {
   "name": "python"
  },
  "orig_nbformat": 4
 },
 "nbformat": 4,
 "nbformat_minor": 2
}
