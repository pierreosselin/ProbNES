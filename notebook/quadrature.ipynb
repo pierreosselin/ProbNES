{
 "cells": [
  {
   "cell_type": "code",
   "execution_count": 2,
   "metadata": {},
   "outputs": [
    {
     "name": "stdout",
     "output_type": "stream",
     "text": [
      "/home/pierre/git/semisupervised\n"
     ]
    }
   ],
   "source": [
    "cd .."
   ]
  },
  {
   "cell_type": "code",
   "execution_count": 5,
   "metadata": {},
   "outputs": [],
   "source": [
    "import numpy as np\n",
    "from probnum.quad import bayesquad\n",
    "from probnum.quad.integration_measures import IntegrationMeasure, GaussianMeasure\n",
    "\n",
    "from probnum.quad.solvers import BayesianQuadrature, BQIterInfo\n",
    "from probnum.quad.typing import DomainLike\n",
    "from probnum.quad._bayesquad import _check_domain_measure_compatibility\n",
    "\n",
    "from probnum.randprocs.kernels import Kernel\n",
    "from probnum.randvars import Normal\n",
    "from typing import Callable, Optional, Tuple\n",
    "\n"
   ]
  },
  {
   "cell_type": "code",
   "execution_count": 6,
   "metadata": {},
   "outputs": [],
   "source": [
    "def bayesquad_from_initial_data(\n",
    "    fun: Callable,\n",
    "    nodes: np.ndarray,\n",
    "    fun_evals: np.ndarray,\n",
    "    kernel: Optional[Kernel] = None,\n",
    "    measure: Optional[IntegrationMeasure] = None,\n",
    "    domain: Optional[DomainLike] = None,\n",
    "    policy: Optional[str] = \"bmc\",\n",
    "    rng: Optional[np.random.Generator] = None,\n",
    "    options: Optional[dict] = None\n",
    ") -> Tuple[Normal, BQIterInfo]:\n",
    "    r\"\"\"Perform Bayesian Quadraturefrom a given set of nodes and function\n",
    "    evaluations.\n",
    "    Parameters\n",
    "    ----------\n",
    "    nodes\n",
    "        *shape=(n_eval, input_dim)* -- Locations at which the function evaluations are\n",
    "        available as ``fun_evals``.\n",
    "    fun_evals\n",
    "        *shape=(n_eval,)* -- Function evaluations at ``nodes``.\n",
    "    kernel\n",
    "        The kernel used for the GP model. Defaults to the ``ExpQuad`` kernel.\n",
    "    measure\n",
    "        The integration measure. Defaults to the Lebesgue measure.\n",
    "    domain\n",
    "        The integration domain. Contains lower and upper bound as scalar or\n",
    "        ``np.ndarray``. Obsolete if ``measure`` is given.\n",
    "    options\n",
    "        A dictionary with the following optional solver settings\n",
    "            scale_estimation : Optional[str]\n",
    "                Estimation method to use to compute the scale parameter. Defaults\n",
    "                to 'mle'. Options are\n",
    "                ==============================  =======\n",
    "                 Maximum likelihood estimation  ``mle``\n",
    "                ==============================  =======\n",
    "            jitter : Optional[FloatLike]\n",
    "                Non-negative jitter to numerically stabilise kernel matrix\n",
    "                inversion. Defaults to 1e-8.\n",
    "    Returns\n",
    "    -------\n",
    "    integral :\n",
    "        The integral belief subject to the provided measure or domain.\n",
    "    info :\n",
    "        Information on the performance of the method.\n",
    "    Raises\n",
    "    ------\n",
    "    ValueError\n",
    "        If neither a domain nor a measure are given.\n",
    "    Warns\n",
    "    -----\n",
    "    UserWarning\n",
    "        When ``domain`` is given but not used.\n",
    "    See Also\n",
    "    --------\n",
    "    bayesquad : Computes the integral using an acquisition policy.\n",
    "    Warnings\n",
    "    --------\n",
    "    Currently the method does not support tuning of the kernel parameters\n",
    "    other than the global kernel scale. Hence, the method may perform poorly unless the\n",
    "    kernel parameters are set to appropriate values by the user.\n",
    "    \"\"\"\n",
    "\n",
    "    if nodes.ndim != 2:\n",
    "        raise ValueError(\n",
    "            \"The nodes must be given a in an array with shape=(n_eval, input_dim)\"\n",
    "        )\n",
    "\n",
    "    input_dim, domain, measure = _check_domain_measure_compatibility(\n",
    "        input_dim=nodes.shape[1], domain=domain, measure=measure\n",
    "    )\n",
    "\n",
    "    bq_method = BayesianQuadrature.from_problem(\n",
    "        input_dim=input_dim,\n",
    "        kernel=kernel,\n",
    "        measure=measure,\n",
    "        domain=domain,\n",
    "        policy=policy,\n",
    "        initial_design=None,\n",
    "        options=options,\n",
    "    )\n",
    "\n",
    "    # Integrate\n",
    "    integral_belief, bqstate, info = bq_method.integrate(\n",
    "        fun=fun, nodes=nodes, fun_evals=fun_evals, rng=rng\n",
    "    )\n",
    "\n",
    "    return integral_belief, bqstate, info"
   ]
  },
  {
   "cell_type": "code",
   "execution_count": 7,
   "metadata": {},
   "outputs": [
    {
     "name": "stdout",
     "output_type": "stream",
     "text": [
      "0.500024114110369\n"
     ]
    }
   ],
   "source": [
    "\n",
    "input_dim = 1\n",
    "domain = (0, 1)\n",
    "def fun(x):\n",
    "    return x.reshape(-1, )\n",
    "F, info = bayesquad(fun, input_dim, domain=domain, rng=np.random.default_rng(0), policy=\"ivr_rand\")\n",
    "print(F.mean)\n"
   ]
  },
  {
   "cell_type": "code",
   "execution_count": 13,
   "metadata": {},
   "outputs": [],
   "source": [
    "nodes = np.linspace(0, 1, 5)[:, None]\n",
    "fun_evals = nodes.reshape(-1, )\n",
    "fun = lambda x: x.reshape(-1, )\n",
    "kernel = None\n",
    "measure = GaussianMeasure(0., 1.)\n",
    "domain = None  # Obsolete if measure is given\n",
    "policy = \"ivr_rand\" #\"mi\" \"ivr\" \"us\" \"us_rand\", \"mi_rand\", \"ivr_rand\"\n",
    "options = {\"max_evals\": 11, \"batch_size\": 5} # "
   ]
  },
  {
   "cell_type": "code",
   "execution_count": 14,
   "metadata": {},
   "outputs": [],
   "source": [
    "F, bqstate, info = bayesquad_from_initial_data(fun=fun,nodes=nodes, fun_evals=fun_evals, measure=measure, policy=policy, options=options, rng=np.random.default_rng(0))"
   ]
  },
  {
   "cell_type": "code",
   "execution_count": 15,
   "metadata": {},
   "outputs": [
    {
     "data": {
      "text/plain": [
       "array([[ 0.        ],\n",
       "       [ 0.25      ],\n",
       "       [ 0.5       ],\n",
       "       [ 0.75      ],\n",
       "       [ 1.        ],\n",
       "       [-1.40152021],\n",
       "       [-2.39823287],\n",
       "       [ 2.55242403],\n",
       "       [-1.47913783],\n",
       "       [ 1.17245123],\n",
       "       [-0.68949746]])"
      ]
     },
     "execution_count": 15,
     "metadata": {},
     "output_type": "execute_result"
    }
   ],
   "source": [
    "bqstate.nodes"
   ]
  },
  {
   "cell_type": "code",
   "execution_count": null,
   "metadata": {},
   "outputs": [],
   "source": [
    "if nodes.ndim != 2:\n",
    "    raise ValueError(\n",
    "        \"The nodes must be given a in an array with shape=(n_eval, input_dim)\"\n",
    "    )\n",
    "\n",
    "input_dim, domain, measure = _check_domain_measure_compatibility(\n",
    "    input_dim=nodes.shape[1], domain=domain, measure=measure\n",
    ")\n",
    "\n",
    "bq_method = BayesianQuadrature.from_problem(\n",
    "    input_dim=input_dim,\n",
    "    kernel=kernel,\n",
    "    measure=measure,\n",
    "    domain=domain,\n",
    "    policy=None,\n",
    "    initial_design=None,\n",
    "    options=options,\n",
    ")\n",
    "\n",
    "# Integrate\n",
    "integral_belief, bq_state, info = bq_method.integrate(\n",
    "    fun=None, nodes=nodes, fun_evals=fun_evals, rng=None\n",
    ")"
   ]
  }
 ],
 "metadata": {
  "kernelspec": {
   "display_name": "semisupervised",
   "language": "python",
   "name": "python3"
  },
  "language_info": {
   "codemirror_mode": {
    "name": "ipython",
    "version": 3
   },
   "file_extension": ".py",
   "mimetype": "text/x-python",
   "name": "python",
   "nbconvert_exporter": "python",
   "pygments_lexer": "ipython3",
   "version": "3.10.9"
  },
  "orig_nbformat": 4
 },
 "nbformat": 4,
 "nbformat_minor": 2
}
