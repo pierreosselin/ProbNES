{
 "cells": [
  {
   "cell_type": "code",
   "execution_count": 1,
   "metadata": {},
   "outputs": [
    {
     "name": "stdout",
     "output_type": "stream",
     "text": [
      "/home/pierre/git/semisupervised\n"
     ]
    }
   ],
   "source": [
    "cd .."
   ]
  },
  {
   "cell_type": "code",
   "execution_count": 2,
   "metadata": {},
   "outputs": [
    {
     "name": "stderr",
     "output_type": "stream",
     "text": [
      "/home/pierre/miniconda3/envs/semisupervised/lib/python3.10/site-packages/tqdm/auto.py:22: TqdmWarning: IProgress not found. Please update jupyter and ipywidgets. See https://ipywidgets.readthedocs.io/en/stable/user_install.html\n",
      "  from .autonotebook import tqdm as notebook_tqdm\n"
     ]
    }
   ],
   "source": [
    "import numpy as np\n",
    "from typing import Callable, Optional, Tuple\n",
    "from module.quadrature import Quadrature, QuadratureExploration, QuadratureExplorationBis\n",
    "from botorch import fit_gpytorch_mll\n",
    "from botorch.models import SingleTaskGP\n",
    "import torch\n",
    "from gpytorch.mlls import ExactMarginalLogLikelihood\n",
    "from torch.distributions.multivariate_normal import MultivariateNormal\n",
    "import matplotlib.pyplot as plt\n",
    "import scipy.stats as stats\n",
    "\n",
    "def plot_GP_fit(model, distribution, train_X, targets, obj, lb=-10., up=10.):\n",
    "    \"\"\" Plot the figures corresponding to the Gaussian process fit\n",
    "    \"\"\"\n",
    "    model.eval()\n",
    "    model.likelihood.eval()\n",
    "    test_x = torch.linspace(lb, up, 200, device=train_X.device, dtype=train_X.dtype)\n",
    "    with torch.no_grad():\n",
    "        # Make predictions\n",
    "        predictions = model.likelihood(model(test_x))\n",
    "        lower, upper = predictions.confidence_region()\n",
    "    value_ = (obj(test_x.unsqueeze(-1))).flatten()\n",
    "\n",
    "    plt.scatter(train_X.cpu().numpy(), targets.cpu().numpy(), color='black', label='Training data')\n",
    "    plt.plot(test_x.cpu().numpy(), predictions.mean.cpu().numpy(), color='blue', label='Predictive mean')\n",
    "    plt.plot(test_x.cpu().numpy(), value_.cpu().numpy(), color='green', label='True Function')\n",
    "    plt.fill_between(test_x.cpu().numpy(), lower.cpu().numpy(), upper.cpu().numpy(), color='lightblue', alpha=0.5, label='Confidence region')\n",
    "    \n",
    "    x = np.linspace(distribution.loc - 3*distribution.covariance_matrix, distribution.loc + 3*distribution.covariance_matrix, 100).flatten()\n",
    "    plt.plot(x, stats.norm.pdf(x, distribution.loc, distribution.covariance_matrix).flatten())\n",
    "    \n",
    "    plt.xlabel('x')\n",
    "    plt.ylabel('y')\n",
    "    plt.title('Gaussian Process Regression')\n",
    "    plt.legend()\n",
    "    plt.show()"
   ]
  },
  {
   "attachments": {},
   "cell_type": "markdown",
   "metadata": {},
   "source": [
    "# Testing Quadrature values"
   ]
  },
  {
   "cell_type": "code",
   "execution_count": 31,
   "metadata": {},
   "outputs": [
    {
     "name": "stderr",
     "output_type": "stream",
     "text": [
      "/home/pierre/miniconda3/envs/semisupervised/lib/python3.10/site-packages/botorch/models/gpytorch.py:119: UserWarning: The model inputs are of type torch.float32. It is strongly recommended to use double precision in BoTorch, as this improves both precision and stability and can help avoid numerical errors. See https://github.com/pytorch/botorch/discussions/1444\n",
      "  warnings.warn(\n"
     ]
    },
    {
     "data": {
      "text/plain": [
       "ExactMarginalLogLikelihood(\n",
       "  (likelihood): GaussianLikelihood(\n",
       "    (noise_covar): HomoskedasticNoise(\n",
       "      (noise_prior): GammaPrior()\n",
       "      (raw_noise_constraint): GreaterThan(1.000E-04)\n",
       "    )\n",
       "  )\n",
       "  (model): SingleTaskGP(\n",
       "    (likelihood): GaussianLikelihood(\n",
       "      (noise_covar): HomoskedasticNoise(\n",
       "        (noise_prior): GammaPrior()\n",
       "        (raw_noise_constraint): GreaterThan(1.000E-04)\n",
       "      )\n",
       "    )\n",
       "    (mean_module): ConstantMean()\n",
       "    (covar_module): ScaleKernel(\n",
       "      (base_kernel): RBFKernel(\n",
       "        (lengthscale_prior): GammaPrior()\n",
       "        (raw_lengthscale_constraint): Positive()\n",
       "      )\n",
       "      (outputscale_prior): GammaPrior()\n",
       "      (raw_outputscale_constraint): Positive()\n",
       "    )\n",
       "  )\n",
       ")"
      ]
     },
     "execution_count": 31,
     "metadata": {},
     "output_type": "execute_result"
    }
   ],
   "source": [
    "from botorch import fit_gpytorch_mll\n",
    "from gpytorch.mlls import ExactMarginalLogLikelihood\n",
    "from gpytorch.kernels import RBFKernel\n",
    "from gpytorch.kernels.scale_kernel import ScaleKernel\n",
    "from gpytorch.priors.torch_priors import GammaPrior\n",
    "\n",
    "quad_distrib = MultivariateNormal(torch.tensor([0.]), torch.diag(torch.tensor([1.])))\n",
    "train_X = torch.linspace(-3,3, 10).reshape(-1,1)\n",
    "train_Y = (-(train_X)**2 + 1.).sum(dim=1, keepdim=True)\n",
    "covar_module = ScaleKernel(\n",
    "                RBFKernel(\n",
    "                    ard_num_dims=train_X.shape[-1],\n",
    "                    batch_shape=None,\n",
    "                    lengthscale_prior=GammaPrior(3.0, 6.0),\n",
    "                ),\n",
    "                batch_shape=None,\n",
    "                outputscale_prior=GammaPrior(2.0, 0.15),\n",
    "            )\n",
    "\n",
    "model = SingleTaskGP(train_X, train_Y, covar_module=covar_module)\n",
    "mll = ExactMarginalLogLikelihood(model.likelihood, model)\n",
    "fit_gpytorch_mll(mll)"
   ]
  },
  {
   "cell_type": "code",
   "execution_count": 32,
   "metadata": {},
   "outputs": [
    {
     "name": "stdout",
     "output_type": "stream",
     "text": [
      "Implementation values\n",
      "mean quad: tensor(0.0005, grad_fn=<AddBackward0>)\n",
      "variance quad: tensor(1.9073e-05, grad_fn=<SubBackward0>)\n",
      "std quad: tensor(0.0044, grad_fn=<SqrtBackward0>)\n",
      "probnum values\n",
      "0.002777248261953344\n",
      "5.693623762793532e-07\n",
      "0.0007545610487424812\n"
     ]
    }
   ],
   "source": [
    "quad = Quadrature(model=model,\n",
    "            distribution=quad_distrib,\n",
    "            c1 = 0.1,\n",
    "            c2 = 0.2,\n",
    "            t_max = 10,\n",
    "            budget = 50,\n",
    "            maximize = True)\n",
    "\n",
    "quad_distrib = MultivariateNormal(torch.tensor([0.]), torch.diag(torch.tensor([1.])))\n",
    "quad.quadrature()\n",
    "print(\"Implementation values\")\n",
    "print(\"mean quad:\", quad.m)\n",
    "print(\"variance quad:\", quad.v)\n",
    "print(\"std quad:\", torch.sqrt(quad.v))\n",
    "\n",
    "# Try with probnum\n",
    "import probnum\n",
    "from probnum.quad import bayesquad_from_data \n",
    "import numpy as np\n",
    "domain = (0, 1)\n",
    "nodes = train_X.numpy()\n",
    "fun_evals = train_Y.numpy().flatten()\n",
    "measure = probnum.quad.integration_measures.GaussianMeasure(0., 1.)\n",
    "F, info = bayesquad_from_data(nodes=nodes, fun_evals=fun_evals, measure=measure)\n",
    "\n",
    "print(\"probnum values\")\n",
    "print(F.mean)\n",
    "print(F.var)\n",
    "print(F.std)"
   ]
  },
  {
   "cell_type": "code",
   "execution_count": 33,
   "metadata": {},
   "outputs": [
    {
     "data": {
      "image/png": "[encoded data removed]",
      "text/plain": [
       "<Figure size 640x480 with 1 Axes>"
      ]
     },
     "metadata": {},
     "output_type": "display_data"
    }
   ],
   "source": [
    "plot_GP_fit(model, quad_distrib, train_X, train_Y, obj = lambda x : - x**2, lb=-1., up=1.)"
   ]
  },
  {
   "attachments": {},
   "cell_type": "markdown",
   "metadata": {},
   "source": [
    "# Testing Acquisition Function"
   ]
  },
  {
   "cell_type": "code",
   "execution_count": 6,
   "metadata": {},
   "outputs": [
    {
     "name": "stderr",
     "output_type": "stream",
     "text": [
      "/home/pierre/miniconda3/envs/semisupervised/lib/python3.10/site-packages/botorch/models/gpytorch.py:119: UserWarning: The model inputs are of type torch.float32. It is strongly recommended to use double precision in BoTorch, as this improves both precision and stability and can help avoid numerical errors. See https://github.com/pytorch/botorch/discussions/1444\n",
      "  warnings.warn(\n"
     ]
    },
    {
     "name": "stdout",
     "output_type": "stream",
     "text": [
      "Debug test\n",
      "Full matrix inverse tensor([[[ 6.3770e+03,  1.8986e+02, -2.8039e+01,  ..., -1.0890e+02,\n",
      "          -6.3076e+01, -2.5911e+03],\n",
      "         [ 1.8993e+02,  7.9390e+03,  3.0098e+01,  ...,  2.4633e+02,\n",
      "           1.3720e+02,  4.0393e-01],\n",
      "         [-2.8425e+01,  2.9658e+01,  5.3125e+03,  ..., -1.7555e+00,\n",
      "          -6.7116e+01, -1.9546e+01],\n",
      "         ...,\n",
      "         [-1.0816e+02,  2.4634e+02, -2.8139e+00,  ...,  4.9040e+03,\n",
      "           3.2517e+01, -2.6994e+01],\n",
      "         [-6.2136e+01,  1.3645e+02, -6.6257e+01,  ...,  2.6863e+01,\n",
      "           5.0793e+03,  3.8809e+01],\n",
      "         [-2.5931e+03,  4.7009e-01, -1.8805e+01,  ..., -2.4384e+01,\n",
      "           4.1871e+01,  7.3000e+03]],\n",
      "\n",
      "        [[ 5.4953e+03,  1.6335e+02, -2.8597e+01,  ..., -1.5341e+02,\n",
      "           1.5584e+02, -3.6139e+02],\n",
      "         [ 1.6389e+02,  7.9801e+03,  1.8994e+01,  ...,  3.5284e+02,\n",
      "          -5.5074e+02,  1.6376e+02],\n",
      "         [-2.8765e+01,  1.8980e+01,  5.3154e+03,  ..., -3.0547e+01,\n",
      "           1.4530e+02, -4.3335e+01],\n",
      "         ...,\n",
      "         [-1.5282e+02,  3.5310e+02, -3.0592e+01,  ...,  5.1897e+03,\n",
      "          -1.4811e+03,  5.6670e+01],\n",
      "         [ 1.5283e+02, -5.5030e+02,  1.4617e+02,  ..., -1.4753e+03,\n",
      "           7.6451e+03, -3.6999e+01],\n",
      "         [-3.6041e+02,  1.6460e+02, -4.4972e+01,  ...,  5.6733e+01,\n",
      "          -3.9879e+01,  3.6378e+03]]], grad_fn=<LinalgInvExBackward0>)\n",
      "Formula: tensor([[[-1.2472e+02,  5.2617e+02, -2.4222e+02,  ...,  1.4036e+03,\n",
      "           9.8377e+02, -8.9847e+01],\n",
      "         [-7.2843e+01,  7.9499e+03,  1.9575e+01,  ..., -1.2220e+02,\n",
      "           1.9545e+02,  2.4622e+02],\n",
      "         [ 5.1575e+01,  2.5334e+01,  5.3153e+03,  ..., -6.7343e+00,\n",
      "           5.6672e+01, -2.3061e+00],\n",
      "         ...,\n",
      "         [-5.9042e+02, -1.3753e+02, -1.2595e+01,  ...,  5.0995e+03,\n",
      "          -1.0819e+01,  4.2278e+01],\n",
      "         [ 1.0053e+03,  1.1740e+02,  9.5675e+01,  ..., -2.6838e+02,\n",
      "           6.3820e+03, -6.4883e+02],\n",
      "         [-2.5473e+02,  2.5271e+02, -8.4866e+00,  ...,  6.8858e+01,\n",
      "          -6.2865e+02,  4.9032e+03]],\n",
      "\n",
      "        [[ 5.4852e+03,  1.4744e+02, -2.3351e+01,  ...,  1.4052e+02,\n",
      "           2.6171e+02, -2.1584e+02],\n",
      "         [ 1.9438e+02,  8.0188e+03,  7.9138e+00,  ..., -2.5409e+02,\n",
      "           1.5585e+02,  5.0831e+02],\n",
      "         [-3.6098e+01,  8.8155e+00,  5.3177e+03,  ...,  3.2956e+01,\n",
      "           6.9528e+01, -6.9657e+01],\n",
      "         ...,\n",
      "         [ 1.0788e+02, -1.7614e+02,  1.4463e+01,  ...,  4.9854e+03,\n",
      "          -1.0634e+02,  1.1927e+01],\n",
      "         [ 2.5300e+02,  1.4947e+02,  7.1321e+01,  ..., -8.2814e+01,\n",
      "           6.4793e+03, -6.8999e+02],\n",
      "         [-7.2528e+01,  4.5316e+02, -5.7455e+01,  ..., -1.9002e+02,\n",
      "          -6.6068e+02,  5.5908e+03]]], grad_fn=<AddBackward0>)\n",
      "Formula: tensor([[[ 1.2483e+04,  1.5401e+04],\n",
      "         [ 6.4372e+02,  7.3002e+02],\n",
      "         [-2.2278e+02, -2.4432e+02],\n",
      "         [ 2.5955e+03,  2.9598e+03],\n",
      "         [ 6.8770e+03,  8.5000e+03],\n",
      "         [ 6.3501e+02,  7.1600e+02],\n",
      "         [ 2.4742e+03,  3.0205e+03],\n",
      "         [ 6.7972e+02,  7.5877e+02],\n",
      "         [ 5.2394e+03,  6.2234e+03],\n",
      "         [ 7.9426e+03,  9.7541e+03],\n",
      "         [-4.8999e+02, -6.2320e+02],\n",
      "         [-4.3645e+03, -5.0095e+03],\n",
      "         [ 5.1681e+03,  6.3414e+03],\n",
      "         [-1.5311e+02, -2.5350e+02],\n",
      "         [-6.9063e+02, -8.2532e+02],\n",
      "         [-5.3910e+03, -6.2338e+03],\n",
      "         [-9.8729e+03, -1.1284e+04],\n",
      "         [ 2.3172e+02,  2.7639e+02],\n",
      "         [-1.5635e+04, -1.7786e+04],\n",
      "         [-2.9072e+01, -1.2133e+01],\n",
      "         [ 1.4829e+01,  2.6291e+01],\n",
      "         [ 2.2829e+03,  2.8136e+03],\n",
      "         [ 2.6783e+03,  3.3564e+03],\n",
      "         [ 2.4277e+02,  3.2146e+02],\n",
      "         [ 2.8534e+02,  3.3492e+02],\n",
      "         [-1.6990e+03, -2.0804e+03],\n",
      "         [-7.4361e+02, -8.7224e+02],\n",
      "         [ 1.8227e+03,  2.0466e+03],\n",
      "         [-1.6410e+03, -2.0508e+03],\n",
      "         [ 3.2005e+02,  3.8508e+02]],\n",
      "\n",
      "        [[ 4.9504e+02, -1.9676e+02],\n",
      "         [-1.3930e+03, -3.0454e+02],\n",
      "         [ 3.6388e+02,  7.9309e+01],\n",
      "         [-3.8128e+02,  6.0428e+02],\n",
      "         [ 3.6360e+02,  6.1964e+01],\n",
      "         [-1.3024e+03, -2.6884e+02],\n",
      "         [-1.6371e+03, -4.3286e+02],\n",
      "         [-6.6376e+02, -1.4760e+00],\n",
      "         [-1.6523e+02,  4.4359e+02],\n",
      "         [ 4.5833e+01, -1.4510e+02],\n",
      "         [-8.1492e+01,  2.1591e+02],\n",
      "         [ 8.2263e+02, -2.2032e+02],\n",
      "         [-6.5094e+02, -1.1487e+02],\n",
      "         [-1.3892e+02,  4.8434e+01],\n",
      "         [-4.8297e+03, -1.6900e+03],\n",
      "         [ 6.9559e+02, -1.6680e+03],\n",
      "         [ 9.3640e+02, -9.7887e+02],\n",
      "         [ 1.5694e+02, -2.3815e+01],\n",
      "         [ 6.6101e+02, -1.3894e+03],\n",
      "         [-4.7667e+01, -4.6218e+01],\n",
      "         [ 3.3368e+02,  7.8916e+01],\n",
      "         [ 2.7539e+02, -2.4515e+01],\n",
      "         [ 4.6958e+02,  7.0804e+00],\n",
      "         [-1.7112e+02, -1.0561e+02],\n",
      "         [-5.0039e+03, -1.6293e+03],\n",
      "         [-2.1276e+02, -1.0127e+02],\n",
      "         [-2.6468e+03, -9.3054e+02],\n",
      "         [ 1.6654e+02,  5.0170e+02],\n",
      "         [ 2.4163e+02,  1.2170e+02],\n",
      "         [-3.6482e+03, -1.1825e+03]]], grad_fn=<UnsafeViewBackward0>)\n",
      "Formula: tensor([[[-9.9309e+03,  6.5794e+02, -3.9006e+02,  2.3337e+03, -5.7661e+03,\n",
      "           6.8787e+02, -1.3330e+03,  9.0097e+02,  2.2511e+02, -5.5746e+03,\n",
      "           6.6878e+02, -3.4509e+03, -3.5323e+03,  1.2505e+03,  1.7609e+01,\n",
      "          -3.3778e+03, -8.6321e+03, -1.4186e+01, -1.5252e+04, -3.8112e+02,\n",
      "          -5.1842e+01, -1.7278e+03, -3.1185e+03, -5.4317e+02,  1.2014e+02,\n",
      "           1.3728e+03, -3.0708e+02,  2.3937e+03,  1.2880e+03,  4.3746e+01],\n",
      "         [ 1.5966e+04, -9.5590e+02,  5.9197e+02, -3.4870e+03,  9.2894e+03,\n",
      "          -1.0281e+03,  2.1420e+03, -1.3642e+03, -7.5048e+01,  9.0002e+03,\n",
      "          -1.0517e+03,  5.0611e+03,  5.7213e+03, -1.9453e+03, -5.7810e+01,\n",
      "           4.9078e+03,  1.2756e+04,  1.9041e+01,  2.2618e+04,  5.9270e+02,\n",
      "           6.8652e+01,  2.8246e+03,  4.9417e+03,  8.1598e+02, -1.3698e+02,\n",
      "          -2.1862e+03,  4.3038e+02, -3.5957e+03, -2.0546e+03, -6.9751e+01]],\n",
      "\n",
      "        [[-2.4627e+02, -1.0537e+03,  2.7207e+02,  1.1738e+03,  2.5228e+02,\n",
      "          -9.6270e+02, -1.3620e+03, -1.8855e+02,  9.1233e+02, -3.1441e+02,\n",
      "           4.0779e+02, -2.5169e+02, -4.4447e+02,  3.5079e+01, -4.9987e+03,\n",
      "          -3.4107e+03, -1.8588e+03,  3.2310e+00, -2.8146e+03, -1.0065e+02,\n",
      "           3.1715e+02,  2.9983e+01,  1.5186e+02, -2.4647e+02, -4.9002e+03,\n",
      "          -1.3184e+02, -2.7775e+03,  1.1936e+03,  7.5866e+01, -3.4974e+03],\n",
      "         [-3.3612e+02,  2.5242e+02, -6.6207e+01,  6.2727e+02, -7.8849e+01,\n",
      "           2.4670e+02,  2.3772e+02,  2.3595e+02,  4.1908e+02, -1.3608e+02,\n",
      "           2.0328e+02, -4.7504e+02,  1.3949e+02,  8.7673e+01,  3.5681e+02,\n",
      "          -1.6061e+03, -1.1302e+03, -7.5380e+01, -1.3679e+03, -2.0064e+01,\n",
      "          -5.2655e+01, -1.1786e+02, -1.6343e+02, -2.3273e+01,  4.7051e+02,\n",
      "           1.1632e+00,  1.9091e+02,  3.5083e+02, -9.8263e-01,  3.5055e+02]]],\n",
      "       grad_fn=<UnsafeViewBackward0>)\n",
      "Formula: tensor([[[ 24063.6035,  27340.6602],\n",
      "         [-35746.3906, -44029.6562]],\n",
      "\n",
      "        [[ 18532.2207,   6206.6680],\n",
      "         [ -1600.0471,   3076.4006]]], grad_fn=<LinalgInvExBackward0>)\n",
      "Check cov X\n",
      "tensor([[[0.3484, 0.3355, 0.2932,  ..., 0.3207, 0.3253, 0.3476],\n",
      "         [0.3355, 0.3484, 0.3291,  ..., 0.3368, 0.3284, 0.3364],\n",
      "         [0.2932, 0.3291, 0.3484,  ..., 0.3306, 0.2947, 0.2966],\n",
      "         ...,\n",
      "         [0.3207, 0.3368, 0.3306,  ..., 0.3484, 0.2938, 0.3263],\n",
      "         [0.3253, 0.3284, 0.2947,  ..., 0.2938, 0.3484, 0.3198],\n",
      "         [0.3476, 0.3364, 0.2966,  ..., 0.3263, 0.3198, 0.3484]],\n",
      "\n",
      "        [[0.3484, 0.3355, 0.2932,  ..., 0.3207, 0.3294, 0.3326],\n",
      "         [0.3355, 0.3484, 0.3291,  ..., 0.3368, 0.3427, 0.3247],\n",
      "         [0.2932, 0.3291, 0.3484,  ..., 0.3306, 0.3302, 0.2820],\n",
      "         ...,\n",
      "         [0.3207, 0.3368, 0.3306,  ..., 0.3484, 0.3470, 0.2910],\n",
      "         [0.3294, 0.3427, 0.3302,  ..., 0.3470, 0.3484, 0.3039],\n",
      "         [0.3326, 0.3247, 0.2820,  ..., 0.2910, 0.3039, 0.3484]]],\n",
      "       grad_fn=<AddBackward0>)\n",
      "From formula\n",
      "tensor([[0.3484, 0.3355, 0.2932, 0.3068, 0.3439, 0.3355, 0.3389, 0.3357, 0.3430,\n",
      "         0.3463, 0.3400, 0.3359, 0.3421, 0.3249, 0.3312, 0.3342, 0.3330, 0.2901,\n",
      "         0.3164, 0.2943, 0.3096, 0.3423, 0.3413, 0.3379, 0.3323, 0.3278, 0.3159,\n",
      "         0.3199, 0.3253, 0.3207],\n",
      "        [0.3355, 0.3484, 0.3291, 0.3254, 0.3311, 0.3483, 0.3357, 0.3481, 0.3173,\n",
      "         0.3432, 0.3109, 0.3427, 0.3350, 0.3458, 0.3459, 0.3128, 0.3389, 0.3272,\n",
      "         0.3255, 0.3095, 0.3018, 0.3457, 0.3282, 0.3293, 0.3405, 0.3227, 0.3384,\n",
      "         0.3413, 0.3204, 0.3368],\n",
      "        [0.2932, 0.3291, 0.3484, 0.3087, 0.2929, 0.3290, 0.3070, 0.3277, 0.2658,\n",
      "         0.3079, 0.2600, 0.3137, 0.3020, 0.3351, 0.3327, 0.2616, 0.3083, 0.3481,\n",
      "         0.2977, 0.2891, 0.2786, 0.3152, 0.2911, 0.2971, 0.3231, 0.2968, 0.3391,\n",
      "         0.3295, 0.2955, 0.3306],\n",
      "        [0.3068, 0.3254, 0.3087, 0.3484, 0.2883, 0.3257, 0.2898, 0.3283, 0.2936,\n",
      "         0.3180, 0.2757, 0.3375, 0.2910, 0.3339, 0.3122, 0.3089, 0.3400, 0.3096,\n",
      "         0.3456, 0.3451, 0.2416, 0.3274, 0.2823, 0.2806, 0.2968, 0.2683, 0.3000,\n",
      "         0.3418, 0.2649, 0.2919],\n",
      "        [0.3439, 0.3311, 0.2929, 0.2883, 0.3484, 0.3309, 0.3458, 0.3299, 0.3354,\n",
      "         0.3408, 0.3394, 0.3234, 0.3475, 0.3174, 0.3324, 0.3177, 0.3181, 0.2890,\n",
      "         0.2966, 0.2723, 0.3291, 0.3344, 0.3480, 0.3467, 0.3386, 0.3413, 0.3212,\n",
      "         0.3082, 0.3397, 0.3288],\n",
      "        [0.3355, 0.3483, 0.3290, 0.3257, 0.3309, 0.3484, 0.3355, 0.3482, 0.3173,\n",
      "         0.3432, 0.3108, 0.3429, 0.3348, 0.3459, 0.3458, 0.3130, 0.3391, 0.3271,\n",
      "         0.3259, 0.3099, 0.3014, 0.3458, 0.3280, 0.3290, 0.3403, 0.3223, 0.3382,\n",
      "         0.3415, 0.3200, 0.3365],\n",
      "        [0.3389, 0.3357, 0.3070, 0.2898, 0.3458, 0.3355, 0.3484, 0.3338, 0.3244,\n",
      "         0.3393, 0.3285, 0.3231, 0.3478, 0.3237, 0.3399, 0.3062, 0.3167, 0.3032,\n",
      "         0.2947, 0.2716, 0.3336, 0.3345, 0.3461, 0.3474, 0.3454, 0.3450, 0.3330,\n",
      "         0.3131, 0.3439, 0.3394],\n",
      "        [0.3357, 0.3481, 0.3277, 0.3283, 0.3299, 0.3482, 0.3338, 0.3484, 0.3183,\n",
      "         0.3434, 0.3108, 0.3443, 0.3335, 0.3462, 0.3446, 0.3153, 0.3410, 0.3260,\n",
      "         0.3287, 0.3133, 0.2982, 0.3464, 0.3267, 0.3273, 0.3384, 0.3198, 0.3361,\n",
      "         0.3427, 0.3174, 0.3341],\n",
      "        [0.3430, 0.3173, 0.2658, 0.2936, 0.3354, 0.3173, 0.3244, 0.3183, 0.3484,\n",
      "         0.3360, 0.3448, 0.3241, 0.3300, 0.3048, 0.3101, 0.3415, 0.3230, 0.2627,\n",
      "         0.3081, 0.2853, 0.2950, 0.3297, 0.3323, 0.3256, 0.3125, 0.3127, 0.2908,\n",
      "         0.3016, 0.3099, 0.2973],\n",
      "        [0.3463, 0.3432, 0.3079, 0.3180, 0.3408, 0.3432, 0.3393, 0.3434, 0.3360,\n",
      "         0.3484, 0.3307, 0.3424, 0.3412, 0.3357, 0.3388, 0.3299, 0.3394, 0.3053,\n",
      "         0.3245, 0.3047, 0.3065, 0.3470, 0.3379, 0.3359, 0.3370, 0.3266, 0.3256,\n",
      "         0.3314, 0.3240, 0.3279],\n",
      "        [0.3400, 0.3109, 0.2600, 0.2757, 0.3394, 0.3108, 0.3285, 0.3108, 0.3448,\n",
      "         0.3307, 0.3484, 0.3121, 0.3337, 0.2952, 0.3076, 0.3295, 0.3091, 0.2563,\n",
      "         0.2898, 0.2647, 0.3096, 0.3217, 0.3381, 0.3322, 0.3145, 0.3221, 0.2903,\n",
      "         0.2888, 0.3200, 0.2995],\n",
      "        [0.3359, 0.3427, 0.3137, 0.3375, 0.3234, 0.3429, 0.3231, 0.3443, 0.3241,\n",
      "         0.3424, 0.3121, 0.3484, 0.3248, 0.3421, 0.3338, 0.3285, 0.3477, 0.3125,\n",
      "         0.3408, 0.3277, 0.2809, 0.3462, 0.3187, 0.3167, 0.3252, 0.3053, 0.3202,\n",
      "         0.3430, 0.3022, 0.3176],\n",
      "        [0.3421, 0.3350, 0.3020, 0.2910, 0.3475, 0.3348, 0.3478, 0.3335, 0.3300,\n",
      "         0.3412, 0.3337, 0.3248, 0.3484, 0.3224, 0.3377, 0.3125, 0.3190, 0.2981,\n",
      "         0.2974, 0.2738, 0.3313, 0.3358, 0.3473, 0.3475, 0.3432, 0.3435, 0.3287,\n",
      "         0.3126, 0.3422, 0.3354],\n",
      "        [0.3249, 0.3458, 0.3351, 0.3339, 0.3174, 0.3459, 0.3237, 0.3462, 0.3048,\n",
      "         0.3357, 0.2952, 0.3421, 0.3224, 0.3484, 0.3417, 0.3051, 0.3393, 0.3342,\n",
      "         0.3305, 0.3191, 0.2854, 0.3415, 0.3138, 0.3153, 0.3321, 0.3083, 0.3356,\n",
      "         0.3465, 0.3058, 0.3304],\n",
      "        [0.3312, 0.3459, 0.3327, 0.3122, 0.3324, 0.3458, 0.3399, 0.3446, 0.3101,\n",
      "         0.3388, 0.3076, 0.3338, 0.3377, 0.3417, 0.3484, 0.3002, 0.3281, 0.3302,\n",
      "         0.3112, 0.2935, 0.3137, 0.3401, 0.3310, 0.3340, 0.3458, 0.3310, 0.3450,\n",
      "         0.3338, 0.3294, 0.3446],\n",
      "        [0.3342, 0.3128, 0.2616, 0.3089, 0.3177, 0.3130, 0.3062, 0.3153, 0.3415,\n",
      "         0.3299, 0.3295, 0.3285, 0.3125, 0.3051, 0.3002, 0.3484, 0.3305, 0.2595,\n",
      "         0.3240, 0.3064, 0.2666, 0.3276, 0.3127, 0.3049, 0.2969, 0.2890, 0.2788,\n",
      "         0.3072, 0.2855, 0.2817],\n",
      "        [0.3330, 0.3389, 0.3083, 0.3400, 0.3181, 0.3391, 0.3167, 0.3410, 0.3230,\n",
      "         0.3394, 0.3091, 0.3477, 0.3190, 0.3393, 0.3281, 0.3305, 0.3484, 0.3074,\n",
      "         0.3440, 0.3325, 0.2724, 0.3438, 0.3129, 0.3102, 0.3185, 0.2976, 0.3133,\n",
      "         0.3420, 0.2944, 0.3102],\n",
      "        [0.2901, 0.3272, 0.3481, 0.3096, 0.2890, 0.3271, 0.3032, 0.3260, 0.2627,\n",
      "         0.3053, 0.2563, 0.3125, 0.2981, 0.3342, 0.3302, 0.2595, 0.3074, 0.3484,\n",
      "         0.2979, 0.2905, 0.2736, 0.3132, 0.2870, 0.2929, 0.3197, 0.2923, 0.3366,\n",
      "         0.3294, 0.2909, 0.3275],\n",
      "        [0.3164, 0.3255, 0.2977, 0.3456, 0.2966, 0.3259, 0.2947, 0.3287, 0.3081,\n",
      "         0.3245, 0.2898, 0.3408, 0.2974, 0.3305, 0.3112, 0.3240, 0.3440, 0.2979,\n",
      "         0.3484, 0.3440, 0.2462, 0.3317, 0.2904, 0.2870, 0.2978, 0.2730, 0.2954,\n",
      "         0.3380, 0.2695, 0.2898],\n",
      "        [0.2943, 0.3095, 0.2891, 0.3451, 0.2723, 0.3099, 0.2716, 0.3133, 0.2853,\n",
      "         0.3047, 0.2647, 0.3277, 0.2738, 0.3191, 0.2935, 0.3064, 0.3325, 0.2905,\n",
      "         0.3440, 0.3484, 0.2218, 0.3146, 0.2657, 0.2627, 0.2772, 0.2489, 0.2790,\n",
      "         0.3303, 0.2453, 0.2708],\n",
      "        [0.3096, 0.3018, 0.2786, 0.2416, 0.3291, 0.3014, 0.3336, 0.2982, 0.2950,\n",
      "         0.3065, 0.3096, 0.2809, 0.3313, 0.2854, 0.3137, 0.2666, 0.2724, 0.2736,\n",
      "         0.2462, 0.2218, 0.3484, 0.2977, 0.3332, 0.3373, 0.3281, 0.3439, 0.3131,\n",
      "         0.2703, 0.3449, 0.3248],\n",
      "        [0.3423, 0.3457, 0.3152, 0.3274, 0.3344, 0.3458, 0.3345, 0.3464, 0.3297,\n",
      "         0.3470, 0.3217, 0.3462, 0.3358, 0.3415, 0.3401, 0.3276, 0.3438, 0.3132,\n",
      "         0.3317, 0.3146, 0.2977, 0.3484, 0.3308, 0.3294, 0.3351, 0.3197, 0.3276,\n",
      "         0.3389, 0.3170, 0.3275],\n",
      "        [0.3413, 0.3282, 0.2911, 0.2823, 0.3480, 0.3280, 0.3461, 0.3267, 0.3323,\n",
      "         0.3379, 0.3381, 0.3187, 0.3473, 0.3138, 0.3310, 0.3127, 0.3129, 0.2870,\n",
      "         0.2904, 0.2657, 0.3332, 0.3308, 0.3484, 0.3475, 0.3385, 0.3434, 0.3208,\n",
      "         0.3037, 0.3422, 0.3292],\n",
      "        [0.3379, 0.3293, 0.2971, 0.2806, 0.3467, 0.3290, 0.3474, 0.3273, 0.3256,\n",
      "         0.3359, 0.3322, 0.3167, 0.3475, 0.3153, 0.3340, 0.3049, 0.3102, 0.2929,\n",
      "         0.2870, 0.2627, 0.3373, 0.3294, 0.3475, 0.3484, 0.3419, 0.3463, 0.3264,\n",
      "         0.3041, 0.3454, 0.3346],\n",
      "        [0.3323, 0.3405, 0.3231, 0.2968, 0.3386, 0.3403, 0.3454, 0.3384, 0.3125,\n",
      "         0.3370, 0.3145, 0.3252, 0.3432, 0.3321, 0.3458, 0.2969, 0.3185, 0.3197,\n",
      "         0.2978, 0.2772, 0.3281, 0.3351, 0.3385, 0.3419, 0.3484, 0.3410, 0.3430,\n",
      "         0.3215, 0.3400, 0.3462],\n",
      "        [0.3278, 0.3227, 0.2968, 0.2683, 0.3413, 0.3223, 0.3450, 0.3198, 0.3127,\n",
      "         0.3266, 0.3221, 0.3053, 0.3435, 0.3083, 0.3310, 0.2890, 0.2976, 0.2923,\n",
      "         0.2730, 0.2489, 0.3439, 0.3197, 0.3434, 0.3463, 0.3410, 0.3484, 0.3274,\n",
      "         0.2951, 0.3482, 0.3364],\n",
      "        [0.3159, 0.3384, 0.3391, 0.3000, 0.3212, 0.3382, 0.3330, 0.3361, 0.2908,\n",
      "         0.3256, 0.2903, 0.3202, 0.3287, 0.3356, 0.3450, 0.2788, 0.3133, 0.3366,\n",
      "         0.2954, 0.2790, 0.3131, 0.3276, 0.3208, 0.3264, 0.3430, 0.3274, 0.3484,\n",
      "         0.3256, 0.3265, 0.3467],\n",
      "        [0.3199, 0.3413, 0.3295, 0.3418, 0.3082, 0.3415, 0.3131, 0.3427, 0.3016,\n",
      "         0.3314, 0.2888, 0.3430, 0.3126, 0.3465, 0.3338, 0.3072, 0.3420, 0.3294,\n",
      "         0.3380, 0.3303, 0.2703, 0.3389, 0.3037, 0.3041, 0.3215, 0.2951, 0.3256,\n",
      "         0.3484, 0.2922, 0.3189],\n",
      "        [0.3253, 0.3204, 0.2955, 0.2649, 0.3397, 0.3200, 0.3439, 0.3174, 0.3099,\n",
      "         0.3240, 0.3200, 0.3022, 0.3422, 0.3058, 0.3294, 0.2855, 0.2944, 0.2909,\n",
      "         0.2695, 0.2453, 0.3449, 0.3170, 0.3422, 0.3454, 0.3400, 0.3482, 0.3265,\n",
      "         0.2922, 0.3484, 0.3358],\n",
      "        [0.3207, 0.3368, 0.3306, 0.2919, 0.3288, 0.3365, 0.3394, 0.3341, 0.2973,\n",
      "         0.3279, 0.2995, 0.3176, 0.3354, 0.3304, 0.3446, 0.2817, 0.3102, 0.3275,\n",
      "         0.2898, 0.2708, 0.3248, 0.3275, 0.3292, 0.3346, 0.3462, 0.3364, 0.3467,\n",
      "         0.3189, 0.3358, 0.3484]], grad_fn=<AddBackward0>)\n",
      "Value acquisition 1 tensor([-0.0584,  0.0138], grad_fn=<AddBackward0>)\n",
      "Value acquisition 2 tensor([0.0114, 0.0114], grad_fn=<SumBackward1>)\n"
     ]
    }
   ],
   "source": [
    "from botorch import fit_gpytorch_mll\n",
    "from gpytorch.mlls import ExactMarginalLogLikelihood\n",
    "\n",
    "quad_distrib = MultivariateNormal(torch.tensor([0., 0.]), torch.diag(torch.tensor([1., 1.])))\n",
    "train_X = torch.rand(30, 2)\n",
    "test_X = torch.rand(2, 2, 2)\n",
    "train_Y = torch.sin(train_X).sum(dim=1, keepdim=True)\n",
    "model = SingleTaskGP(train_X, train_Y)\n",
    "mll = ExactMarginalLogLikelihood(model.likelihood, model)\n",
    "fit_gpytorch_mll(mll)\n",
    "quad = QuadratureExploration(model, quad_distrib)\n",
    "acq_2 = QuadratureExplorationBis(model=model,\n",
    "                                distribution= quad_distrib)\n",
    "acq_1 = QuadratureExploration(model=model,\n",
    "                        distribution= quad_distrib,\n",
    "                        batch_acq = 2)\n",
    "\n",
    "print(\"Value acquisition 1\", acq_1(test_X))\n",
    "print(\"Value acquisition 2\", acq_2(test_X))"
   ]
  },
  {
   "cell_type": "code",
   "execution_count": 8,
   "metadata": {},
   "outputs": [
    {
     "name": "stdout",
     "output_type": "stream",
     "text": [
      "Value acquisition 1 tensor([0.0092, 0.0113], grad_fn=<AddBackward0>)\n",
      "Value acquisition 2 tensor([0.0125, 0.0125], grad_fn=<SumBackward1>)\n"
     ]
    },
    {
     "name": "stderr",
     "output_type": "stream",
     "text": [
      "/home/pierre/miniconda3/envs/semisupervised/lib/python3.10/site-packages/botorch/models/gpytorch.py:119: UserWarning: The model inputs are of type torch.float32. It is strongly recommended to use double precision in BoTorch, as this improves both precision and stability and can help avoid numerical errors. See https://github.com/pytorch/botorch/discussions/1444\n",
      "  warnings.warn(\n"
     ]
    }
   ],
   "source": [
    "train_X = torch.rand(20, 2)\n",
    "test_X = torch.rand(2, 2, 2)\n",
    "train_Y = torch.sin(train_X).sum(dim=1, keepdim=True)\n",
    "model = SingleTaskGP(train_X, train_Y)\n",
    "mll = ExactMarginalLogLikelihood(model.likelihood, model)\n",
    "fit_gpytorch_mll(mll)\n",
    "acq_1 = QuadratureExploration(model=model,\n",
    "                            distribution= quad_distrib,\n",
    "                            batch_acq = 2)\n",
    "acq_2 = QuadratureExplorationBis(model=model,\n",
    "                                distribution= quad_distrib)\n",
    "print(\"Value acquisition 1\", acq_1(test_X))\n",
    "print(\"Value acquisition 2\", acq_2(test_X))\n"
   ]
  },
  {
   "attachments": {},
   "cell_type": "markdown",
   "metadata": {},
   "source": [
    "# Gradient test"
   ]
  },
  {
   "cell_type": "code",
   "execution_count": 7,
   "metadata": {},
   "outputs": [
    {
     "name": "stdout",
     "output_type": "stream",
     "text": [
      "epsilon grad: tensor([[-232.6250]], grad_fn=<UnsafeViewBackward0>)\n",
      "mu grad: tensor([-465.1659], grad_fn=<MvBackward0>)\n"
     ]
    },
    {
     "name": "stderr",
     "output_type": "stream",
     "text": [
      "/home/pierre/miniconda3/envs/semisupervised/lib/python3.10/site-packages/botorch/models/gpytorch.py:119: UserWarning: The model inputs are of type torch.float32. It is strongly recommended to use double precision in BoTorch, as this improves both precision and stability and can help avoid numerical errors. See https://github.com/pytorch/botorch/discussions/1444\n",
      "  warnings.warn(\n"
     ]
    }
   ],
   "source": [
    "from botorch import fit_gpytorch_mll\n",
    "from gpytorch.mlls import ExactMarginalLogLikelihood\n",
    "from gpytorch.kernels import RBFKernel\n",
    "from gpytorch.kernels.scale_kernel import ScaleKernel\n",
    "from gpytorch.priors.torch_priors import GammaPrior\n",
    "\n",
    "\n",
    "quad_distrib = MultivariateNormal(torch.tensor([1.]), torch.diag(torch.tensor([1.])))\n",
    "train_X = torch.linspace(-5,5, 20).reshape(-1,1)\n",
    "train_Y = (-(train_X)**2).sum(dim=1, keepdim=True)\n",
    "covar_module = ScaleKernel(\n",
    "                RBFKernel(\n",
    "                    ard_num_dims=train_X.shape[-1],\n",
    "                    batch_shape=None,\n",
    "                    lengthscale_prior=GammaPrior(3.0, 6.0),\n",
    "                ),\n",
    "                batch_shape=None,\n",
    "                outputscale_prior=GammaPrior(2.0, 0.15),\n",
    "            )\n",
    "\n",
    "model = SingleTaskGP(train_X, train_Y, covar_module=covar_module)\n",
    "mll = ExactMarginalLogLikelihood(model.likelihood, model)\n",
    "fit_gpytorch_mll(mll)\n",
    "\n",
    "quad = Quadrature(model=model,\n",
    "            distribution=quad_distrib,\n",
    "            c1 = 0.1,\n",
    "            c2 = 0.2,\n",
    "            t_max = 1,\n",
    "            budget = 1000,\n",
    "            maximize = True)\n",
    "\n",
    "quad.gradient_direction(sample=False)\n",
    "print(\"epsilon grad:\", quad.d_epsilon)\n",
    "print(\"mu grad:\", quad.d_mu)"
   ]
  },
  {
   "cell_type": "code",
   "execution_count": 9,
   "metadata": {},
   "outputs": [
    {
     "data": {
      "text/plain": [
       "tensor(0.0010)"
      ]
     },
     "execution_count": 9,
     "metadata": {},
     "output_type": "execute_result"
    }
   ],
   "source": [
    "quad.t_max"
   ]
  },
  {
   "cell_type": "code",
   "execution_count": 8,
   "metadata": {},
   "outputs": [],
   "source": [
    "quad.maximize_step()"
   ]
  },
  {
   "cell_type": "code",
   "execution_count": 10,
   "metadata": {},
   "outputs": [
    {
     "data": {
      "text/plain": [
       "MultivariateNormal(loc: tensor([0.5348], grad_fn=<ExpandBackward0>), covariance_matrix: tensor([[0.7674]], grad_fn=<ExpandBackward0>))"
      ]
     },
     "execution_count": 10,
     "metadata": {},
     "output_type": "execute_result"
    }
   ],
   "source": [
    "quad.update_distribution()"
   ]
  },
  {
   "cell_type": "code",
   "execution_count": null,
   "metadata": {},
   "outputs": [],
   "source": []
  }
 ],
 "metadata": {
  "kernelspec": {
   "display_name": "semisupervised",
   "language": "python",
   "name": "python3"
  },
  "language_info": {
   "codemirror_mode": {
    "name": "ipython",
    "version": 3
   },
   "file_extension": ".py",
   "mimetype": "text/x-python",
   "name": "python",
   "nbconvert_exporter": "python",
   "pygments_lexer": "ipython3",
   "version": "3.10.9"
  },
  "orig_nbformat": 4
 },
 "nbformat": 4,
 "nbformat_minor": 2
}
