{
 "cells": [
  {
   "cell_type": "code",
   "execution_count": 1,
   "metadata": {},
   "outputs": [
    {
     "name": "stdout",
     "output_type": "stream",
     "text": [
      "/home/pierre/git/semisupervised\n"
     ]
    }
   ],
   "source": [
    "cd .."
   ]
  },
  {
   "attachments": {},
   "cell_type": "markdown",
   "metadata": {},
   "source": [
    "# Testing probnum"
   ]
  },
  {
   "cell_type": "code",
   "execution_count": 2,
   "metadata": {},
   "outputs": [
    {
     "name": "stderr",
     "output_type": "stream",
     "text": [
      "/home/pierre/git/semisupervised/probnum/randprocs/covfuncs/_covariance_linear_operator.py:16: UserWarning: KeOps is not installed and currently unavailable for Windows.This may prevent scaling to large datasets.\n",
      "  warnings.warn(\n"
     ]
    },
    {
     "ename": "ModuleNotFoundError",
     "evalue": "No module named 'probnum._version'",
     "output_type": "error",
     "traceback": [
      "\u001b[0;31m---------------------------------------------------------------------------\u001b[0m",
      "\u001b[0;31mModuleNotFoundError\u001b[0m                       Traceback (most recent call last)",
      "Cell \u001b[0;32mIn[2], line 2\u001b[0m\n\u001b[1;32m      1\u001b[0m \u001b[39mimport\u001b[39;00m \u001b[39mnumpy\u001b[39;00m \u001b[39mas\u001b[39;00m \u001b[39mnp\u001b[39;00m\n\u001b[0;32m----> 2\u001b[0m \u001b[39mfrom\u001b[39;00m \u001b[39mprobnum\u001b[39;00m\u001b[39m.\u001b[39;00m\u001b[39mquad\u001b[39;00m \u001b[39mimport\u001b[39;00m bayesquad\n\u001b[1;32m      3\u001b[0m \u001b[39mfrom\u001b[39;00m \u001b[39mprobnum\u001b[39;00m\u001b[39m.\u001b[39;00m\u001b[39mquad\u001b[39;00m\u001b[39m.\u001b[39;00m\u001b[39mintegration_measures\u001b[39;00m \u001b[39mimport\u001b[39;00m IntegrationMeasure, GaussianMeasure\n\u001b[1;32m      5\u001b[0m \u001b[39mfrom\u001b[39;00m \u001b[39mprobnum\u001b[39;00m\u001b[39m.\u001b[39;00m\u001b[39mquad\u001b[39;00m\u001b[39m.\u001b[39;00m\u001b[39msolvers\u001b[39;00m \u001b[39mimport\u001b[39;00m BayesianQuadrature, BQIterInfo\n",
      "File \u001b[0;32m~/git/semisupervised/probnum/__init__.py:38\u001b[0m\n\u001b[1;32m     24\u001b[0m \u001b[39m# isort: on\u001b[39;00m\n\u001b[1;32m     26\u001b[0m \u001b[39mfrom\u001b[39;00m \u001b[39m.\u001b[39;00m \u001b[39mimport\u001b[39;00m (\n\u001b[1;32m     27\u001b[0m     diffeq,\n\u001b[1;32m     28\u001b[0m     filtsmooth,\n\u001b[0;32m   (...)\u001b[0m\n\u001b[1;32m     36\u001b[0m     utils,\n\u001b[1;32m     37\u001b[0m )\n\u001b[0;32m---> 38\u001b[0m \u001b[39mfrom\u001b[39;00m \u001b[39m.\u001b[39;00m\u001b[39m_version\u001b[39;00m \u001b[39mimport\u001b[39;00m version \u001b[39mas\u001b[39;00m __version__\n\u001b[1;32m     39\u001b[0m \u001b[39mfrom\u001b[39;00m \u001b[39m.\u001b[39;00m\u001b[39mrandvars\u001b[39;00m \u001b[39mimport\u001b[39;00m asrandvar\n\u001b[1;32m     41\u001b[0m \u001b[39m# Public classes and functions. Order is reflected in documentation.\u001b[39;00m\n",
      "\u001b[0;31mModuleNotFoundError\u001b[0m: No module named 'probnum._version'"
     ]
    }
   ],
   "source": [
    "import numpy as np\n",
    "from probnum.quad import bayesquad\n",
    "from probnum.quad.integration_measures import IntegrationMeasure, GaussianMeasure\n",
    "\n",
    "from probnum.quad.solvers import BayesianQuadrature, BQIterInfo\n",
    "from probnum.quad.typing import DomainLike\n",
    "from probnum.quad._bayesquad import _check_domain_measure_compatibility\n",
    "\n",
    "from probnum.randprocs.kernels import Kernel\n",
    "from probnum.randvars import Normal\n",
    "from typing import Callable, Optional, Tuple\n"
   ]
  },
  {
   "cell_type": "code",
   "execution_count": 3,
   "metadata": {},
   "outputs": [
    {
     "ename": "NameError",
     "evalue": "name 'Callable' is not defined",
     "output_type": "error",
     "traceback": [
      "\u001b[0;31m---------------------------------------------------------------------------\u001b[0m",
      "\u001b[0;31mNameError\u001b[0m                                 Traceback (most recent call last)",
      "Cell \u001b[0;32mIn[3], line 2\u001b[0m\n\u001b[1;32m      1\u001b[0m \u001b[39mdef\u001b[39;00m \u001b[39mbayesquad_from_initial_data\u001b[39m(\n\u001b[0;32m----> 2\u001b[0m     fun: Callable,\n\u001b[1;32m      3\u001b[0m     nodes: np\u001b[39m.\u001b[39mndarray,\n\u001b[1;32m      4\u001b[0m     fun_evals: np\u001b[39m.\u001b[39mndarray,\n\u001b[1;32m      5\u001b[0m     kernel: Optional[Kernel] \u001b[39m=\u001b[39m \u001b[39mNone\u001b[39;00m,\n\u001b[1;32m      6\u001b[0m     measure: Optional[IntegrationMeasure] \u001b[39m=\u001b[39m \u001b[39mNone\u001b[39;00m,\n\u001b[1;32m      7\u001b[0m     domain: Optional[DomainLike] \u001b[39m=\u001b[39m \u001b[39mNone\u001b[39;00m,\n\u001b[1;32m      8\u001b[0m     policy: Optional[\u001b[39mstr\u001b[39m] \u001b[39m=\u001b[39m \u001b[39m\"\u001b[39m\u001b[39mbmc\u001b[39m\u001b[39m\"\u001b[39m,\n\u001b[1;32m      9\u001b[0m     rng: Optional[np\u001b[39m.\u001b[39mrandom\u001b[39m.\u001b[39mGenerator] \u001b[39m=\u001b[39m \u001b[39mNone\u001b[39;00m,\n\u001b[1;32m     10\u001b[0m     options: Optional[\u001b[39mdict\u001b[39m] \u001b[39m=\u001b[39m \u001b[39mNone\u001b[39;00m\n\u001b[1;32m     11\u001b[0m ) \u001b[39m-\u001b[39m\u001b[39m>\u001b[39m Tuple[Normal, BQIterInfo]:\n\u001b[1;32m     12\u001b[0m \u001b[39m    \u001b[39m\u001b[39mr\u001b[39m\u001b[39m\"\"\"Perform Bayesian Quadraturefrom a given set of nodes and function\u001b[39;00m\n\u001b[1;32m     13\u001b[0m \u001b[39m    evaluations.\u001b[39;00m\n\u001b[1;32m     14\u001b[0m \u001b[39m    Parameters\u001b[39;00m\n\u001b[0;32m   (...)\u001b[0m\n\u001b[1;32m     60\u001b[0m \u001b[39m    kernel parameters are set to appropriate values by the user.\u001b[39;00m\n\u001b[1;32m     61\u001b[0m \u001b[39m    \"\"\"\u001b[39;00m\n\u001b[1;32m     63\u001b[0m     \u001b[39mif\u001b[39;00m nodes\u001b[39m.\u001b[39mndim \u001b[39m!=\u001b[39m \u001b[39m2\u001b[39m:\n",
      "\u001b[0;31mNameError\u001b[0m: name 'Callable' is not defined"
     ]
    }
   ],
   "source": [
    "def bayesquad_from_initial_data(\n",
    "    fun: Callable,\n",
    "    nodes: np.ndarray,\n",
    "    fun_evals: np.ndarray,\n",
    "    kernel: Optional[Kernel] = None,\n",
    "    measure: Optional[IntegrationMeasure] = None,\n",
    "    domain: Optional[DomainLike] = None,\n",
    "    policy: Optional[str] = \"bmc\",\n",
    "    rng: Optional[np.random.Generator] = None,\n",
    "    options: Optional[dict] = None\n",
    ") -> Tuple[Normal, BQIterInfo]:\n",
    "    r\"\"\"Perform Bayesian Quadraturefrom a given set of nodes and function\n",
    "    evaluations.\n",
    "    Parameters\n",
    "    ----------\n",
    "    nodes\n",
    "        *shape=(n_eval, input_dim)* -- Locations at which the function evaluations are\n",
    "        available as ``fun_evals``.\n",
    "    fun_evals\n",
    "        *shape=(n_eval,)* -- Function evaluations at ``nodes``.\n",
    "    kernel\n",
    "        The kernel used for the GP model. Defaults to the ``ExpQuad`` kernel.\n",
    "    measure\n",
    "        The integration measure. Defaults to the Lebesgue measure.\n",
    "    domain\n",
    "        The integration domain. Contains lower and upper bound as scalar or\n",
    "        ``np.ndarray``. Obsolete if ``measure`` is given.\n",
    "    options\n",
    "        A dictionary with the following optional solver settings\n",
    "            scale_estimation : Optional[str]\n",
    "                Estimation method to use to compute the scale parameter. Defaults\n",
    "                to 'mle'. Options are\n",
    "                ==============================  =======\n",
    "                 Maximum likelihood estimation  ``mle``\n",
    "                ==============================  =======\n",
    "            jitter : Optional[FloatLike]\n",
    "                Non-negative jitter to numerically stabilise kernel matrix\n",
    "                inversion. Defaults to 1e-8.\n",
    "    Returns\n",
    "    -------\n",
    "    integral :\n",
    "        The integral belief subject to the provided measure or domain.\n",
    "    info :\n",
    "        Information on the performance of the method.\n",
    "    Raises\n",
    "    ------\n",
    "    ValueError\n",
    "        If neither a domain nor a measure are given.\n",
    "    Warns\n",
    "    -----\n",
    "    UserWarning\n",
    "        When ``domain`` is given but not used.\n",
    "    See Also\n",
    "    --------\n",
    "    bayesquad : Computes the integral using an acquisition policy.\n",
    "    Warnings\n",
    "    --------\n",
    "    Currently the method does not support tuning of the kernel parameters\n",
    "    other than the global kernel scale. Hence, the method may perform poorly unless the\n",
    "    kernel parameters are set to appropriate values by the user.\n",
    "    \"\"\"\n",
    "\n",
    "    if nodes.ndim != 2:\n",
    "        raise ValueError(\n",
    "            \"The nodes must be given a in an array with shape=(n_eval, input_dim)\"\n",
    "        )\n",
    "\n",
    "    input_dim, domain, measure = _check_domain_measure_compatibility(\n",
    "        input_dim=nodes.shape[1], domain=domain, measure=measure\n",
    "    )\n",
    "\n",
    "    bq_method = BayesianQuadrature.from_problem(\n",
    "        input_dim=input_dim,\n",
    "        kernel=kernel,\n",
    "        measure=measure,\n",
    "        domain=domain,\n",
    "        policy=policy,\n",
    "        initial_design=None,\n",
    "        options=options,\n",
    "    )\n",
    "\n",
    "    # Integrate\n",
    "    integral_belief, bqstate, info = bq_method.integrate(\n",
    "        fun=fun, nodes=nodes, fun_evals=fun_evals, rng=rng\n",
    "    )\n",
    "\n",
    "    return integral_belief, bqstate, info"
   ]
  },
  {
   "cell_type": "code",
   "execution_count": 7,
   "metadata": {},
   "outputs": [
    {
     "name": "stdout",
     "output_type": "stream",
     "text": [
      "0.500024114110369\n"
     ]
    }
   ],
   "source": [
    "\n",
    "input_dim = 1\n",
    "domain = (0, 1)\n",
    "def fun(x):\n",
    "    return x.reshape(-1, )\n",
    "F, info = bayesquad(fun, input_dim, domain=domain, rng=np.random.default_rng(0), policy=\"ivr_rand\")\n",
    "print(F.mean)\n"
   ]
  },
  {
   "cell_type": "code",
   "execution_count": 5,
   "metadata": {},
   "outputs": [],
   "source": [
    "nodes = np.linspace(0, 1, 5)[:, None]\n",
    "nodes = np.array([[10.]])\n",
    "fun_evals = nodes.reshape(-1, )\n",
    "\n",
    "fun = lambda x: x.reshape(-1, )\n",
    "kernel = None\n",
    "measure = GaussianMeasure(0., 1.)\n",
    "domain = None  # Obsolete if measure is given\n",
    "policy = \"ivr_rand\" #\"mi\" \"ivr\" \"us\" \"us_rand\", \"mi_rand\", \"ivr_rand\"\n",
    "options = {\"max_evals\": 10, \"batch_size\": 5} # "
   ]
  },
  {
   "cell_type": "code",
   "execution_count": 24,
   "metadata": {},
   "outputs": [
    {
     "data": {
      "text/plain": [
       "array([[10.]])"
      ]
     },
     "execution_count": 24,
     "metadata": {},
     "output_type": "execute_result"
    }
   ],
   "source": [
    "nodes = np.linspace(0, 1, 5)[:, None]\n",
    "nodes\n",
    "nodes = np.array([[10.]])\n",
    "nodes"
   ]
  },
  {
   "cell_type": "code",
   "execution_count": 6,
   "metadata": {},
   "outputs": [],
   "source": [
    "F, bqstate, info = bayesquad_from_initial_data(fun=fun,nodes=nodes, fun_evals=fun_evals, measure=measure, policy=policy, options=options, rng=np.random.default_rng(0))"
   ]
  },
  {
   "cell_type": "code",
   "execution_count": 14,
   "metadata": {},
   "outputs": [
    {
     "data": {
      "text/plain": [
       "BQIterInfo(iteration=9, nevals=10, has_converged=True)"
      ]
     },
     "execution_count": 14,
     "metadata": {},
     "output_type": "execute_result"
    }
   ],
   "source": [
    "info"
   ]
  },
  {
   "cell_type": "code",
   "execution_count": 9,
   "metadata": {},
   "outputs": [
    {
     "data": {
      "text/plain": [
       "array([ 1.00000000e+01, -4.45413312e-03,  1.64325161e+00, -1.43428146e+00,\n",
       "        1.22975381e+00, -8.96526215e-01,  1.92666271e+00, -2.42183301e+00,\n",
       "        8.49783614e-01, -1.57265056e+00])"
      ]
     },
     "execution_count": 9,
     "metadata": {},
     "output_type": "execute_result"
    }
   ],
   "source": [
    "bqstate.fun_evals"
   ]
  },
  {
   "cell_type": "code",
   "execution_count": 13,
   "metadata": {},
   "outputs": [
    {
     "data": {
      "text/plain": [
       "array(4.84997767e-05)"
      ]
     },
     "execution_count": 13,
     "metadata": {},
     "output_type": "execute_result"
    }
   ],
   "source": [
    "F.var"
   ]
  },
  {
   "cell_type": "code",
   "execution_count": null,
   "metadata": {},
   "outputs": [],
   "source": [
    "if nodes.ndim != 2:\n",
    "    raise ValueError(\n",
    "        \"The nodes must be given a in an array with shape=(n_eval, input_dim)\"\n",
    "    )\n",
    "\n",
    "input_dim, domain, measure = _check_domain_measure_compatibility(\n",
    "    input_dim=nodes.shape[1], domain=domain, measure=measure\n",
    ")\n",
    "\n",
    "bq_method = BayesianQuadrature.from_problem(\n",
    "    input_dim=input_dim,\n",
    "    kernel=kernel,\n",
    "    measure=measure,\n",
    "    domain=domain,\n",
    "    policy=None,\n",
    "    initial_design=None,\n",
    "    options=options,\n",
    ")\n",
    "\n",
    "# Integrate\n",
    "integral_belief, bq_state, info = bq_method.integrate(\n",
    "    fun=None, nodes=nodes, fun_evals=fun_evals, rng=None\n",
    ")"
   ]
  },
  {
   "cell_type": "code",
   "execution_count": 4,
   "metadata": {},
   "outputs": [
    {
     "name": "stderr",
     "output_type": "stream",
     "text": [
      "/home/pierre/miniconda3/envs/semisupervised/lib/python3.10/site-packages/tqdm/auto.py:22: TqdmWarning: IProgress not found. Please update jupyter and ipywidgets. See https://ipywidgets.readthedocs.io/en/stable/user_install.html\n",
      "  from .autonotebook import tqdm as notebook_tqdm\n"
     ]
    }
   ],
   "source": [
    "\n",
    "from torch.distributions.multivariate_normal import MultivariateNormal\n",
    "import torch\n"
   ]
  },
  {
   "cell_type": "code",
   "execution_count": null,
   "metadata": {},
   "outputs": [],
   "source": []
  },
  {
   "attachments": {},
   "cell_type": "markdown",
   "metadata": {},
   "source": [
    "# Testing the gradients of the quad"
   ]
  },
  {
   "cell_type": "code",
   "execution_count": 3,
   "metadata": {},
   "outputs": [
    {
     "name": "stdout",
     "output_type": "stream",
     "text": [
      "/home/pierre/git/semisupervised\n"
     ]
    }
   ],
   "source": [
    "cd .."
   ]
  },
  {
   "cell_type": "code",
   "execution_count": 11,
   "metadata": {},
   "outputs": [],
   "source": [
    "from module.quadrature import Quadrature\n",
    "import numpy as np\n",
    "from probnum.quad import bayesquad\n",
    "from probnum.quad.integration_measures import IntegrationMeasure, GaussianMeasure\n",
    "\n",
    "from probnum.quad.solvers import BayesianQuadrature, BQIterInfo\n",
    "from probnum.quad.typing import DomainLike\n",
    "from probnum.quad._bayesquad import _check_domain_measure_compatibility\n",
    "import torch\n",
    "from probnum.randprocs.kernels import Kernel\n",
    "from probnum.randvars import Normal\n",
    "from typing import Callable, Optional, Tuple\n",
    "from torch.distributions.multivariate_normal import MultivariateNormal\n"
   ]
  },
  {
   "cell_type": "code",
   "execution_count": 5,
   "metadata": {},
   "outputs": [],
   "source": [
    "train_x = torch.linspace(0, 1, 5).reshape(-1,1)\n",
    "train_y = (train_x**2).flatten()\n",
    "nodes = np.array([[10.]])\n",
    "fun_evals = nodes.reshape(-1, )\n",
    "\n",
    "fun = lambda x: x**2\n",
    "batch_size = 5\n",
    "\n",
    "\n",
    "\n",
    "dtype = torch.float64\n",
    "device = \"cpu\"\n",
    "kernel = None\n",
    "measure = GaussianMeasure(0., 1.)\n",
    "domain = None  # Obsolete if measure is given\n",
    "policy = \"ivr_rand\" #\"mi\" \"ivr\" \"us\" \"us_rand\", \"mi_rand\", \"ivr_rand\"\n",
    "options = {\"max_evals\": 10, \"batch_size\": batch_size} # \n",
    "\n",
    "mean, loc = torch.zeros(1, dtype=dtype, device=device, requires_grad=True), torch.eye(1, dtype=dtype, device=device, requires_grad=True)\n",
    "params = [mean, loc]\n",
    "distribution = MultivariateNormal(loc=params[0], covariance_matrix=params[1])"
   ]
  },
  {
   "cell_type": "code",
   "execution_count": 6,
   "metadata": {},
   "outputs": [],
   "source": [
    "qd = Quadrature(objective=fun,\n",
    "            distribution=distribution,\n",
    "            batch_size=batch_size,\n",
    "            device=device,\n",
    "            dtype=dtype,\n",
    "            policy=policy,\n",
    "            options=options,\n",
    "            params=params)"
   ]
  },
  {
   "cell_type": "code",
   "execution_count": 7,
   "metadata": {},
   "outputs": [],
   "source": [
    "qd.update(train_x, train_y, distribution=distribution)"
   ]
  },
  {
   "cell_type": "code",
   "execution_count": 8,
   "metadata": {},
   "outputs": [
    {
     "data": {
      "text/plain": [
       "(<Normal with shape=(), dtype=float64>,\n",
       " tensor([[-1.4015],\n",
       "         [-2.3982],\n",
       "         [ 2.5524],\n",
       "         [-1.4791],\n",
       "         [ 1.1725]], dtype=torch.float64),\n",
       " tensor([1.9643, 5.7515, 6.5149, 2.1878, 1.3746], dtype=torch.float64))"
      ]
     },
     "execution_count": 8,
     "metadata": {},
     "output_type": "execute_result"
    }
   ],
   "source": [
    "qd.integrate()"
   ]
  },
  {
   "cell_type": "code",
   "execution_count": 9,
   "metadata": {},
   "outputs": [
    {
     "ename": "ValueError",
     "evalue": "fun_evals must be one-dimensional (2).",
     "output_type": "error",
     "traceback": [
      "\u001b[0;31m---------------------------------------------------------------------------\u001b[0m",
      "\u001b[0;31mValueError\u001b[0m                                Traceback (most recent call last)",
      "Cell \u001b[0;32mIn[9], line 1\u001b[0m\n\u001b[0;32m----> 1\u001b[0m qd\u001b[39m.\u001b[39;49mgrad_integration()\n",
      "File \u001b[0;32m~/git/semisupervised/module/quadrature.py:166\u001b[0m, in \u001b[0;36mQuadrature.grad_integration\u001b[0;34m(self)\u001b[0m\n\u001b[1;32m    164\u001b[0m \u001b[39mfor\u001b[39;00m param \u001b[39min\u001b[39;00m \u001b[39mself\u001b[39m\u001b[39m.\u001b[39mparams:\n\u001b[1;32m    165\u001b[0m     grad_train_y \u001b[39m=\u001b[39m \u001b[39mself\u001b[39m\u001b[39m.\u001b[39mtrain_y\u001b[39m*\u001b[39mparam\u001b[39m.\u001b[39mgrad\n\u001b[0;32m--> 166\u001b[0m     F, _ \u001b[39m=\u001b[39m bayesquad_from_data(nodes\u001b[39m=\u001b[39;49m\u001b[39mself\u001b[39;49m\u001b[39m.\u001b[39;49mnodes, fun_evals\u001b[39m=\u001b[39;49mgrad_train_y\u001b[39m.\u001b[39;49mcpu()\u001b[39m.\u001b[39;49mdetach()\u001b[39m.\u001b[39;49mnumpy(), measure\u001b[39m=\u001b[39;49m\u001b[39mself\u001b[39;49m\u001b[39m.\u001b[39;49mmeasure)\n\u001b[1;32m    167\u001b[0m     list_grad_mean\u001b[39m.\u001b[39mappend(F\u001b[39m.\u001b[39mmean)\n\u001b[1;32m    168\u001b[0m     list_grad_var\u001b[39m.\u001b[39mappend(F\u001b[39m.\u001b[39mvar)\n",
      "File \u001b[0;32m~/git/semisupervised/probnum/quad/_bayesquad.py:306\u001b[0m, in \u001b[0;36mbayesquad_from_data\u001b[0;34m(nodes, fun_evals, kernel, measure, domain, options)\u001b[0m\n\u001b[1;32m    295\u001b[0m bq_method \u001b[39m=\u001b[39m BayesianQuadrature\u001b[39m.\u001b[39mfrom_problem(\n\u001b[1;32m    296\u001b[0m     input_dim\u001b[39m=\u001b[39minput_dim,\n\u001b[1;32m    297\u001b[0m     kernel\u001b[39m=\u001b[39mkernel,\n\u001b[0;32m   (...)\u001b[0m\n\u001b[1;32m    302\u001b[0m     options\u001b[39m=\u001b[39moptions,\n\u001b[1;32m    303\u001b[0m )\n\u001b[1;32m    305\u001b[0m \u001b[39m# Integrate\u001b[39;00m\n\u001b[0;32m--> 306\u001b[0m integral_belief, _, info \u001b[39m=\u001b[39m bq_method\u001b[39m.\u001b[39;49mintegrate(\n\u001b[1;32m    307\u001b[0m     fun\u001b[39m=\u001b[39;49m\u001b[39mNone\u001b[39;49;00m, nodes\u001b[39m=\u001b[39;49mnodes, fun_evals\u001b[39m=\u001b[39;49mfun_evals, rng\u001b[39m=\u001b[39;49m\u001b[39mNone\u001b[39;49;00m\n\u001b[1;32m    308\u001b[0m )\n\u001b[1;32m    310\u001b[0m \u001b[39mreturn\u001b[39;00m integral_belief, info\n",
      "File \u001b[0;32m~/git/semisupervised/probnum/quad/solvers/_bayesian_quadrature.py:442\u001b[0m, in \u001b[0;36mBayesianQuadrature.integrate\u001b[0;34m(self, fun, nodes, fun_evals, rng)\u001b[0m\n\u001b[1;32m    440\u001b[0m \u001b[39m# Check if shapes of nodes and function evaluations match\u001b[39;00m\n\u001b[1;32m    441\u001b[0m \u001b[39mif\u001b[39;00m fun_evals \u001b[39mis\u001b[39;00m \u001b[39mnot\u001b[39;00m \u001b[39mNone\u001b[39;00m \u001b[39mand\u001b[39;00m fun_evals\u001b[39m.\u001b[39mndim \u001b[39m!=\u001b[39m \u001b[39m1\u001b[39m:\n\u001b[0;32m--> 442\u001b[0m     \u001b[39mraise\u001b[39;00m \u001b[39mValueError\u001b[39;00m(\n\u001b[1;32m    443\u001b[0m         \u001b[39mf\u001b[39m\u001b[39m\"\u001b[39m\u001b[39mfun_evals must be one-dimensional \u001b[39m\u001b[39m\"\u001b[39m \u001b[39mf\u001b[39m\u001b[39m\"\u001b[39m\u001b[39m(\u001b[39m\u001b[39m{\u001b[39;00mfun_evals\u001b[39m.\u001b[39mndim\u001b[39m}\u001b[39;00m\u001b[39m).\u001b[39m\u001b[39m\"\u001b[39m\n\u001b[1;32m    444\u001b[0m     )\n\u001b[1;32m    445\u001b[0m \u001b[39mif\u001b[39;00m nodes \u001b[39mis\u001b[39;00m \u001b[39mnot\u001b[39;00m \u001b[39mNone\u001b[39;00m \u001b[39mand\u001b[39;00m nodes\u001b[39m.\u001b[39mndim \u001b[39m!=\u001b[39m \u001b[39m2\u001b[39m:\n\u001b[1;32m    446\u001b[0m     \u001b[39mraise\u001b[39;00m \u001b[39mValueError\u001b[39;00m(\u001b[39mf\u001b[39m\u001b[39m\"\u001b[39m\u001b[39mnodes must be two-dimensional (\u001b[39m\u001b[39m{\u001b[39;00mnodes\u001b[39m.\u001b[39mndim\u001b[39m}\u001b[39;00m\u001b[39m).\u001b[39m\u001b[39m\"\u001b[39m)\n",
      "\u001b[0;31mValueError\u001b[0m: fun_evals must be one-dimensional (2)."
     ]
    }
   ],
   "source": [
    "qd.grad_integration()"
   ]
  },
  {
   "cell_type": "code",
   "execution_count": 15,
   "metadata": {},
   "outputs": [
    {
     "name": "stdout",
     "output_type": "stream",
     "text": [
      "None\n",
      "None\n"
     ]
    }
   ],
   "source": [
    "for param in qd.params:\n",
    "    print(param.grad)"
   ]
  },
  {
   "cell_type": "code",
   "execution_count": 16,
   "metadata": {},
   "outputs": [
    {
     "ename": "AttributeError",
     "evalue": "'NoneType' object has no attribute 'zero_'",
     "output_type": "error",
     "traceback": [
      "\u001b[0;31m---------------------------------------------------------------------------\u001b[0m",
      "\u001b[0;31mAttributeError\u001b[0m                            Traceback (most recent call last)",
      "Cell \u001b[0;32mIn[16], line 1\u001b[0m\n\u001b[0;32m----> 1\u001b[0m param\u001b[39m.\u001b[39;49mgrad\u001b[39m.\u001b[39;49mzero_()\n",
      "\u001b[0;31mAttributeError\u001b[0m: 'NoneType' object has no attribute 'zero_'"
     ]
    }
   ],
   "source": [
    "param.grad.zero_()"
   ]
  },
  {
   "cell_type": "code",
   "execution_count": 28,
   "metadata": {},
   "outputs": [
    {
     "name": "stdout",
     "output_type": "stream",
     "text": [
      "tensor([[3.0519, 0.7196],\n",
      "        [0.9820, 5.0898],\n",
      "        [2.1712, 0.8690]])\n",
      "Reald grad: tensor([[3.0519, 0.7196],\n",
      "        [0.9820, 5.0898],\n",
      "        [2.1712, 0.8690]], grad_fn=<MulBackward0>)\n"
     ]
    }
   ],
   "source": [
    "import torch\n",
    "\n",
    "x = torch.randn((3,2), requires_grad=True)\n",
    "out = (x**2).sum(axis=1)\n",
    "# Pass tensor of ones, each for each item in x\n",
    "out.backward(torch.ones_like(out))\n",
    "print(x.grad)\n",
    "print(f\"Reald grad: {2*x}\")"
   ]
  },
  {
   "cell_type": "code",
   "execution_count": 24,
   "metadata": {},
   "outputs": [
    {
     "data": {
      "text/plain": [
       "tensor([[-0.7634, -0.2845],\n",
       "        [-0.3361, -0.6021],\n",
       "        [ 1.3452, -0.2483]], requires_grad=True)"
      ]
     },
     "execution_count": 24,
     "metadata": {},
     "output_type": "execute_result"
    }
   ],
   "source": [
    "x = torch.randn((3,2), requires_grad=True)\n"
   ]
  },
  {
   "cell_type": "code",
   "execution_count": 25,
   "metadata": {},
   "outputs": [
    {
     "data": {
      "text/plain": [
       "tensor([0.6638, 0.4754, 1.8713], grad_fn=<SumBackward1>)"
      ]
     },
     "execution_count": 25,
     "metadata": {},
     "output_type": "execute_result"
    }
   ],
   "source": []
  },
  {
   "cell_type": "code",
   "execution_count": null,
   "metadata": {},
   "outputs": [],
   "source": [
    "mean, loc = torch.zeros(1, dtype=dtype, device=device, requires_grad=True), torch.eye(1, dtype=dtype, device=device, requires_grad=True)\n"
   ]
  },
  {
   "cell_type": "code",
   "execution_count": null,
   "metadata": {},
   "outputs": [],
   "source": []
  },
  {
   "cell_type": "code",
   "execution_count": null,
   "metadata": {},
   "outputs": [],
   "source": []
  },
  {
   "cell_type": "code",
   "execution_count": 19,
   "metadata": {},
   "outputs": [],
   "source": [
    "mean, loc = torch.zeros(3, dtype=dtype, device=device, requires_grad=True), torch.eye(3, dtype=dtype, device=device, requires_grad=True)\n",
    "params = [mean, loc]\n",
    "distribution = MultivariateNormal(loc=params[0], covariance_matrix=params[1])"
   ]
  },
  {
   "cell_type": "code",
   "execution_count": 17,
   "metadata": {},
   "outputs": [],
   "source": [
    "mean = 100*torch.ones(1, dtype=dtype, device=device, requires_grad=True)"
   ]
  },
  {
   "cell_type": "code",
   "execution_count": null,
   "metadata": {},
   "outputs": [],
   "source": []
  },
  {
   "cell_type": "code",
   "execution_count": 20,
   "metadata": {},
   "outputs": [
    {
     "data": {
      "text/plain": [
       "tensor([ 0.9337,  0.7861, -0.3251], dtype=torch.float64)"
      ]
     },
     "execution_count": 20,
     "metadata": {},
     "output_type": "execute_result"
    }
   ],
   "source": [
    "distribution.sample()"
   ]
  },
  {
   "cell_type": "code",
   "execution_count": 22,
   "metadata": {},
   "outputs": [
    {
     "name": "stdout",
     "output_type": "stream",
     "text": [
      "tensor([[ 2.,  4.,  6.],\n",
      "        [ 8., 10., 12.]])\n"
     ]
    }
   ],
   "source": [
    "import torch\n",
    "\n",
    "x = torch.tensor([[1., 2., 3.], [4., 5., 6.]], requires_grad=True)\n",
    "y = x * x\n",
    "\n",
    "# Compute gradients for each element of x\n",
    "z = y.sum()\n",
    "z.backward()\n",
    "\n",
    "print(x.grad)"
   ]
  },
  {
   "cell_type": "code",
   "execution_count": null,
   "metadata": {},
   "outputs": [],
   "source": []
  }
 ],
 "metadata": {
  "kernelspec": {
   "display_name": "semisupervised",
   "language": "python",
   "name": "python3"
  },
  "language_info": {
   "codemirror_mode": {
    "name": "ipython",
    "version": 3
   },
   "file_extension": ".py",
   "mimetype": "text/x-python",
   "name": "python",
   "nbconvert_exporter": "python",
   "pygments_lexer": "ipython3",
   "version": "3.10.9"
  },
  "orig_nbformat": 4
 },
 "nbformat": 4,
 "nbformat_minor": 2
}
