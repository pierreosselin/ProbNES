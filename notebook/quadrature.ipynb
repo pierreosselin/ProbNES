{
 "cells": [
  {
   "cell_type": "code",
   "execution_count": 1,
   "metadata": {},
   "outputs": [
    {
     "name": "stdout",
     "output_type": "stream",
     "text": [
      "/home/osselinp/semisupervised\n"
     ]
    }
   ],
   "source": [
    "cd .."
   ]
  },
  {
   "cell_type": "code",
   "execution_count": 2,
   "metadata": {},
   "outputs": [
    {
     "name": "stderr",
     "output_type": "stream",
     "text": [
      "/data/osselinp/miniconda3/envs/semisupervised/lib/python3.10/site-packages/tqdm/auto.py:22: TqdmWarning: IProgress not found. Please update jupyter and ipywidgets. See https://ipywidgets.readthedocs.io/en/stable/user_install.html\n",
      "  from .autonotebook import tqdm as notebook_tqdm\n"
     ]
    }
   ],
   "source": [
    "import numpy as np\n",
    "from typing import Callable, Optional, Tuple\n",
    "from module.quadrature import Quadrature, QuadratureExploration, QuadratureExplorationBis\n",
    "from botorch import fit_gpytorch_mll\n",
    "from botorch.models import SingleTaskGP\n",
    "import torch\n",
    "from gpytorch.mlls import ExactMarginalLogLikelihood\n",
    "from torch.distributions.multivariate_normal import MultivariateNormal\n",
    "import matplotlib.pyplot as plt\n",
    "import scipy.stats as stats\n",
    "\n",
    "def plot_GP_fit(model, distribution, train_X, targets, obj, lb=-10., up=10.):\n",
    "    \"\"\" Plot the figures corresponding to the Gaussian process fit\n",
    "    \"\"\"\n",
    "    model.eval()\n",
    "    model.likelihood.eval()\n",
    "    test_x = torch.linspace(lb, up, 200, device=train_X.device, dtype=train_X.dtype)\n",
    "    with torch.no_grad():\n",
    "        # Make predictions\n",
    "        predictions = model.likelihood(model(test_x))\n",
    "        lower, upper = predictions.confidence_region()\n",
    "    value_ = (obj(test_x.unsqueeze(-1))).flatten()\n",
    "\n",
    "    plt.scatter(train_X.cpu().numpy(), targets.cpu().numpy(), color='black', label='Training data')\n",
    "    plt.plot(test_x.cpu().numpy(), predictions.mean.cpu().numpy(), color='blue', label='Predictive mean')\n",
    "    plt.plot(test_x.cpu().numpy(), value_.cpu().numpy(), color='green', label='True Function')\n",
    "    plt.fill_between(test_x.cpu().numpy(), lower.cpu().numpy(), upper.cpu().numpy(), color='lightblue', alpha=0.5, label='Confidence region')\n",
    "    \n",
    "    x = np.linspace(distribution.loc - 3*distribution.covariance_matrix, distribution.loc + 3*distribution.covariance_matrix, 100).flatten()\n",
    "    plt.plot(x, stats.norm.pdf(x, distribution.loc, distribution.covariance_matrix).flatten())\n",
    "    \n",
    "    plt.xlabel('x')\n",
    "    plt.ylabel('y')\n",
    "    plt.title('Gaussian Process Regression')\n",
    "    plt.legend()\n",
    "    plt.show()"
   ]
  },
  {
   "attachments": {},
   "cell_type": "markdown",
   "metadata": {},
   "source": [
    "# Testing Acquisition Function"
   ]
  },
  {
   "cell_type": "code",
   "execution_count": 3,
   "metadata": {},
   "outputs": [
    {
     "name": "stderr",
     "output_type": "stream",
     "text": [
      "/data/osselinp/miniconda3/envs/semisupervised/lib/python3.10/site-packages/botorch/models/gpytorch.py:119: UserWarning: The model inputs are of type torch.float32. It is strongly recommended to use double precision in BoTorch, as this improves both precision and stability and can help avoid numerical errors. See https://github.com/pytorch/botorch/discussions/1444\n",
      "  warnings.warn(\n"
     ]
    },
    {
     "ename": "RuntimeError",
     "evalue": "Expected size for first two dimensions of batch2 tensor to be: [60, 2] but got: [2, 2].",
     "output_type": "error",
     "traceback": [
      "\u001b[0;31m---------------------------------------------------------------------------\u001b[0m",
      "\u001b[0;31mRuntimeError\u001b[0m                              Traceback (most recent call last)",
      "Cell \u001b[0;32mIn[3], line 18\u001b[0m\n\u001b[1;32m     12\u001b[0m acq_2 \u001b[39m=\u001b[39m QuadratureExplorationBis(model\u001b[39m=\u001b[39mmodel,\n\u001b[1;32m     13\u001b[0m                                 distribution\u001b[39m=\u001b[39m quad_distrib)\n\u001b[1;32m     14\u001b[0m acq_1 \u001b[39m=\u001b[39m QuadratureExploration(model\u001b[39m=\u001b[39mmodel,\n\u001b[1;32m     15\u001b[0m                         distribution\u001b[39m=\u001b[39m quad_distrib,\n\u001b[1;32m     16\u001b[0m                         batch_acq \u001b[39m=\u001b[39m \u001b[39m2\u001b[39m)\n\u001b[0;32m---> 18\u001b[0m \u001b[39mprint\u001b[39m(\u001b[39m\"\u001b[39m\u001b[39mValue acquisition 1\u001b[39m\u001b[39m\"\u001b[39m, acq_1(test_X))\n\u001b[1;32m     19\u001b[0m \u001b[39mprint\u001b[39m(\u001b[39m\"\u001b[39m\u001b[39mValue acquisition 2\u001b[39m\u001b[39m\"\u001b[39m, acq_2(test_X))\n",
      "File \u001b[0;32m/data/osselinp/miniconda3/envs/semisupervised/lib/python3.10/site-packages/torch/nn/modules/module.py:1194\u001b[0m, in \u001b[0;36mModule._call_impl\u001b[0;34m(self, *input, **kwargs)\u001b[0m\n\u001b[1;32m   1190\u001b[0m \u001b[39m# If we don't have any hooks, we want to skip the rest of the logic in\u001b[39;00m\n\u001b[1;32m   1191\u001b[0m \u001b[39m# this function, and just call forward.\u001b[39;00m\n\u001b[1;32m   1192\u001b[0m \u001b[39mif\u001b[39;00m \u001b[39mnot\u001b[39;00m (\u001b[39mself\u001b[39m\u001b[39m.\u001b[39m_backward_hooks \u001b[39mor\u001b[39;00m \u001b[39mself\u001b[39m\u001b[39m.\u001b[39m_forward_hooks \u001b[39mor\u001b[39;00m \u001b[39mself\u001b[39m\u001b[39m.\u001b[39m_forward_pre_hooks \u001b[39mor\u001b[39;00m _global_backward_hooks\n\u001b[1;32m   1193\u001b[0m         \u001b[39mor\u001b[39;00m _global_forward_hooks \u001b[39mor\u001b[39;00m _global_forward_pre_hooks):\n\u001b[0;32m-> 1194\u001b[0m     \u001b[39mreturn\u001b[39;00m forward_call(\u001b[39m*\u001b[39;49m\u001b[39minput\u001b[39;49m, \u001b[39m*\u001b[39;49m\u001b[39m*\u001b[39;49mkwargs)\n\u001b[1;32m   1195\u001b[0m \u001b[39m# Do not call functions when jit is used\u001b[39;00m\n\u001b[1;32m   1196\u001b[0m full_backward_hooks, non_full_backward_hooks \u001b[39m=\u001b[39m [], []\n",
      "File \u001b[0;32m/data/osselinp/miniconda3/envs/semisupervised/lib/python3.10/site-packages/botorch/utils/transforms.py:276\u001b[0m, in \u001b[0;36mt_batch_mode_transform.<locals>.decorator.<locals>.decorated\u001b[0;34m(acqf, X, *args, **kwargs)\u001b[0m\n\u001b[1;32m    274\u001b[0m \u001b[39m# add t-batch dim\u001b[39;00m\n\u001b[1;32m    275\u001b[0m X \u001b[39m=\u001b[39m X \u001b[39mif\u001b[39;00m X\u001b[39m.\u001b[39mdim() \u001b[39m>\u001b[39m \u001b[39m2\u001b[39m \u001b[39melse\u001b[39;00m X\u001b[39m.\u001b[39munsqueeze(\u001b[39m0\u001b[39m)\n\u001b[0;32m--> 276\u001b[0m output \u001b[39m=\u001b[39m method(acqf, X, \u001b[39m*\u001b[39;49margs, \u001b[39m*\u001b[39;49m\u001b[39m*\u001b[39;49mkwargs)\n\u001b[1;32m    277\u001b[0m \u001b[39mif\u001b[39;00m \u001b[39mhasattr\u001b[39m(acqf, \u001b[39m\"\u001b[39m\u001b[39mmodel\u001b[39m\u001b[39m\"\u001b[39m) \u001b[39mand\u001b[39;00m is_fully_bayesian(acqf\u001b[39m.\u001b[39mmodel):\n\u001b[1;32m    278\u001b[0m     output \u001b[39m=\u001b[39m output\u001b[39m.\u001b[39mmean(dim\u001b[39m=\u001b[39m\u001b[39m-\u001b[39m\u001b[39m1\u001b[39m)\n",
      "File \u001b[0;32m~/semisupervised/module/quadrature.py:286\u001b[0m, in \u001b[0;36mQuadratureExploration.forward\u001b[0;34m(self, X)\u001b[0m\n\u001b[1;32m    283\u001b[0m t_X_full \u001b[39m=\u001b[39m torch\u001b[39m.\u001b[39mexp(MultivariateNormal(loc \u001b[39m=\u001b[39m \u001b[39mself\u001b[39m\u001b[39m.\u001b[39mdistribution\u001b[39m.\u001b[39mloc, covariance_matrix \u001b[39m=\u001b[39m \u001b[39mself\u001b[39m\u001b[39m.\u001b[39mdistribution\u001b[39m.\u001b[39mcovariance_matrix \u001b[39m+\u001b[39m gp_kernel)\u001b[39m.\u001b[39mlog_prob(X_full))\n\u001b[1;32m    284\u001b[0m full_inv \u001b[39m=\u001b[39m torch\u001b[39m.\u001b[39mlinalg\u001b[39m.\u001b[39minv((\u001b[39mself\u001b[39m\u001b[39m.\u001b[39mmodel\u001b[39m.\u001b[39mcovar_module(X_full) \u001b[39m+\u001b[39m noise_tensor)\u001b[39m.\u001b[39mevaluate())\n\u001b[0;32m--> 286\u001b[0m first_term \u001b[39m=\u001b[39m torch\u001b[39m.\u001b[39;49mbmm(P_inv_A, \u001b[39mself\u001b[39;49m\u001b[39m.\u001b[39;49mt_X_train_batch)\u001b[39m.\u001b[39msqueeze() \u001b[39m@\u001b[39m \u001b[39mself\u001b[39m\u001b[39m.\u001b[39mt_X_train\n\u001b[1;32m    287\u001b[0m second_term \u001b[39m=\u001b[39m torch\u001b[39m.\u001b[39mbmm(P_inv_B, t_X[:, :, \u001b[39mNone\u001b[39;00m])\u001b[39m.\u001b[39msqueeze() \u001b[39m@\u001b[39m \u001b[39mself\u001b[39m\u001b[39m.\u001b[39mt_X_train\n\u001b[1;32m    288\u001b[0m third_term \u001b[39m=\u001b[39m (t_X[:, \u001b[39mNone\u001b[39;00m, :] \u001b[39m@\u001b[39m (P_inv_C \u001b[39m@\u001b[39m \u001b[39mself\u001b[39m\u001b[39m.\u001b[39mt_X_train_batch))\u001b[39m.\u001b[39msqueeze()\n",
      "\u001b[0;31mRuntimeError\u001b[0m: Expected size for first two dimensions of batch2 tensor to be: [60, 2] but got: [2, 2]."
     ]
    }
   ],
   "source": [
    "from botorch import fit_gpytorch_mll\n",
    "from gpytorch.mlls import ExactMarginalLogLikelihood\n",
    "\n",
    "quad_distrib = MultivariateNormal(torch.tensor([0., 0.]), torch.diag(torch.tensor([1., 1.])))\n",
    "train_X = torch.rand(2, 2)\n",
    "test_X = torch.rand(60, 2, 2)\n",
    "train_Y = torch.sin(train_X).sum(dim=1, keepdim=True)\n",
    "model = SingleTaskGP(train_X, train_Y)\n",
    "mll = ExactMarginalLogLikelihood(model.likelihood, model)\n",
    "fit_gpytorch_mll(mll)\n",
    "quad = QuadratureExploration(model, quad_distrib)\n",
    "acq_2 = QuadratureExplorationBis(model=model,\n",
    "                                distribution= quad_distrib)\n",
    "acq_1 = QuadratureExploration(model=model,\n",
    "                        distribution= quad_distrib,\n",
    "                        batch_acq = 2)\n",
    "\n",
    "print(\"Value acquisition 1\", acq_1(test_X))\n",
    "print(\"Value acquisition 2\", acq_2(test_X))"
   ]
  },
  {
   "cell_type": "code",
   "execution_count": 19,
   "metadata": {},
   "outputs": [
    {
     "name": "stderr",
     "output_type": "stream",
     "text": [
      "/data/osselinp/miniconda3/envs/semisupervised/lib/python3.10/site-packages/botorch/models/gpytorch.py:119: UserWarning: The model inputs are of type torch.float32. It is strongly recommended to use double precision in BoTorch, as this improves both precision and stability and can help avoid numerical errors. See https://github.com/pytorch/botorch/discussions/1444\n",
      "  warnings.warn(\n"
     ]
    },
    {
     "name": "stdout",
     "output_type": "stream",
     "text": [
      "Value acquisition 1 tensor([0.0353, 0.0097], grad_fn=<AddBackward0>)\n",
      "Value acquisition 2 tensor([0.0128, 0.0128], grad_fn=<SumBackward1>)\n"
     ]
    }
   ],
   "source": [
    "train_X = torch.rand(20, 2)\n",
    "test_X = torch.rand(2, 2, 2)\n",
    "train_Y = torch.sin(train_X).sum(dim=1, keepdim=True)\n",
    "model = SingleTaskGP(train_X, train_Y)\n",
    "mll = ExactMarginalLogLikelihood(model.likelihood, model)\n",
    "fit_gpytorch_mll(mll)\n",
    "acq_1 = QuadratureExploration(model=model,\n",
    "                            distribution= quad_distrib,\n",
    "                            batch_acq = 2)\n",
    "acq_2 = QuadratureExplorationBis(model=model,\n",
    "                                distribution= quad_distrib)\n",
    "print(\"Value acquisition 1\", acq_1(test_X))\n",
    "print(\"Value acquisition 2\", acq_2(test_X))\n"
   ]
  },
  {
   "attachments": {},
   "cell_type": "markdown",
   "metadata": {},
   "source": [
    "# Gradient test"
   ]
  },
  {
   "cell_type": "code",
   "execution_count": 3,
   "metadata": {},
   "outputs": [],
   "source": [
    "def quadrature(model, distribution):\n",
    "    train_X = model.train_inputs[0]\n",
    "    gp_kernel = (torch.diag(model.covar_module.base_kernel.lengthscale[0].detach().clone()))**2\n",
    "    covariance_matrix = gp_kernel + distribution.covariance_matrix\n",
    "    theta = model.covar_module.outputscale\n",
    "    \n",
    "    #Compute the gradient of m:\n",
    "    noise_tensor = model.likelihood.noise.detach().clone() * torch.eye(train_X.shape[0], dtype=train_X.dtype, device=train_X.device)\n",
    "    K_X_X = (model.covar_module(train_X) + noise_tensor).evaluate()\n",
    "    \n",
    "    t_X = torch.sqrt(torch.linalg.det(2*torch.pi*gp_kernel)) * torch.exp(MultivariateNormal(loc = distribution.loc, covariance_matrix = covariance_matrix).log_prob(train_X))\n",
    "    R = torch.sqrt(torch.linalg.det(2*torch.pi*gp_kernel)) * theta*torch.exp(MultivariateNormal(loc = distribution.loc, covariance_matrix = covariance_matrix + distribution.covariance_matrix).log_prob(distribution.loc))\n",
    "    m = model.mean_module.constant + theta*(t_X.T @ torch.linalg.solve(K_X_X, (model.train_targets - model.mean_module.constant)))\n",
    "    v = R - (theta**2)*(t_X.T @ torch.linalg.solve(K_X_X, t_X))\n",
    "    return m, v"
   ]
  },
  {
   "cell_type": "code",
   "execution_count": 4,
   "metadata": {},
   "outputs": [
    {
     "name": "stderr",
     "output_type": "stream",
     "text": [
      "/data/osselinp/miniconda3/envs/semisupervised/lib/python3.10/site-packages/botorch/models/gpytorch.py:119: UserWarning: The model inputs are of type torch.float32. It is strongly recommended to use double precision in BoTorch, as this improves both precision and stability and can help avoid numerical errors. See https://github.com/pytorch/botorch/discussions/1444\n",
      "  warnings.warn(\n"
     ]
    },
    {
     "data": {
      "text/plain": [
       "ExactMarginalLogLikelihood(\n",
       "  (likelihood): GaussianLikelihood(\n",
       "    (noise_covar): HomoskedasticNoise(\n",
       "      (noise_prior): GammaPrior()\n",
       "      (raw_noise_constraint): GreaterThan(1.000E-04)\n",
       "    )\n",
       "  )\n",
       "  (model): SingleTaskGP(\n",
       "    (likelihood): GaussianLikelihood(\n",
       "      (noise_covar): HomoskedasticNoise(\n",
       "        (noise_prior): GammaPrior()\n",
       "        (raw_noise_constraint): GreaterThan(1.000E-04)\n",
       "      )\n",
       "    )\n",
       "    (mean_module): ConstantMean()\n",
       "    (covar_module): ScaleKernel(\n",
       "      (base_kernel): RBFKernel(\n",
       "        (lengthscale_prior): GammaPrior()\n",
       "        (raw_lengthscale_constraint): Positive()\n",
       "      )\n",
       "      (outputscale_prior): GammaPrior()\n",
       "      (raw_outputscale_constraint): Positive()\n",
       "    )\n",
       "  )\n",
       ")"
      ]
     },
     "execution_count": 4,
     "metadata": {},
     "output_type": "execute_result"
    }
   ],
   "source": [
    "from botorch import fit_gpytorch_mll\n",
    "from gpytorch.mlls import ExactMarginalLogLikelihood\n",
    "from gpytorch.kernels import RBFKernel\n",
    "from gpytorch.kernels.scale_kernel import ScaleKernel\n",
    "from gpytorch.priors.torch_priors import GammaPrior\n",
    "\n",
    "quad_distrib = MultivariateNormal(torch.tensor([0.]), torch.diag(torch.tensor([1.])))\n",
    "train_X = torch.linspace(-1,1, 20).reshape(-1,1)\n",
    "train_Y = (-(train_X)**2).sum(dim=1, keepdim=True)\n",
    "covar_module = ScaleKernel(\n",
    "                RBFKernel(\n",
    "                    ard_num_dims=train_X.shape[-1],\n",
    "                    batch_shape=None,\n",
    "                    lengthscale_prior=GammaPrior(3.0, 6.0),\n",
    "                ),\n",
    "                batch_shape=None,\n",
    "                outputscale_prior=GammaPrior(2.0, 0.15),\n",
    "            )\n",
    "\n",
    "model = SingleTaskGP(train_X, train_Y, covar_module=covar_module)\n",
    "mll = ExactMarginalLogLikelihood(model.likelihood, model)\n",
    "fit_gpytorch_mll(mll)"
   ]
  },
  {
   "cell_type": "code",
   "execution_count": 14,
   "metadata": {},
   "outputs": [],
   "source": [
    "quad = Quadrature(model=model,\n",
    "            distribution=quad_distrib,\n",
    "            c1 = 0.1,\n",
    "            c2 = 0.2,\n",
    "            t_max = 10,\n",
    "            budget = 50,\n",
    "            maximize = True)"
   ]
  },
  {
   "cell_type": "code",
   "execution_count": 12,
   "metadata": {},
   "outputs": [
    {
     "name": "stdout",
     "output_type": "stream",
     "text": [
      "epsilon grad: tensor([[-0.5533]], grad_fn=<UnsafeViewBackward0>)\n",
      "mu grad: tensor([-1.5389e-05], grad_fn=<MvBackward0>)\n"
     ]
    }
   ],
   "source": [
    "quad.gradient_direction(sample=False)\n",
    "print(\"epsilon grad:\", quad.d_epsilon)\n",
    "print(\"mu grad:\", quad.d_mu)"
   ]
  },
  {
   "cell_type": "code",
   "execution_count": null,
   "metadata": {},
   "outputs": [],
   "source": []
  },
  {
   "cell_type": "code",
   "execution_count": 15,
   "metadata": {},
   "outputs": [
    {
     "ename": "NameError",
     "evalue": "name 'model' is not defined",
     "output_type": "error",
     "traceback": [
      "\u001b[0;31m---------------------------------------------------------------------------\u001b[0m",
      "\u001b[0;31mNameError\u001b[0m                                 Traceback (most recent call last)",
      "Cell \u001b[0;32mIn[15], line 2\u001b[0m\n\u001b[1;32m      1\u001b[0m quad_distrib \u001b[39m=\u001b[39m MultivariateNormal(torch\u001b[39m.\u001b[39mtensor([\u001b[39m0.\u001b[39m]), torch\u001b[39m.\u001b[39mdiag(torch\u001b[39m.\u001b[39mtensor([\u001b[39m1.\u001b[39m])))\n\u001b[0;32m----> 2\u001b[0m m, v \u001b[39m=\u001b[39m quad\u001b[39m.\u001b[39;49mquadrature()\n\u001b[1;32m      3\u001b[0m \u001b[39mprint\u001b[39m(\u001b[39m\"\u001b[39m\u001b[39mmean quad:\u001b[39m\u001b[39m\"\u001b[39m, m)\n\u001b[1;32m      4\u001b[0m \u001b[39mprint\u001b[39m(\u001b[39m\"\u001b[39m\u001b[39mvariance quad:\u001b[39m\u001b[39m\"\u001b[39m, v)\n",
      "File \u001b[0;32m~/semisupervised/module/quadrature.py:42\u001b[0m, in \u001b[0;36mQuadrature.quadrature\u001b[0;34m(self)\u001b[0m\n\u001b[1;32m     40\u001b[0m \u001b[39mdef\u001b[39;00m \u001b[39mquadrature\u001b[39m(\u001b[39mself\u001b[39m):\n\u001b[1;32m     41\u001b[0m     \u001b[39mself\u001b[39m\u001b[39m.\u001b[39mtrain_X \u001b[39m=\u001b[39m \u001b[39mself\u001b[39m\u001b[39m.\u001b[39mmodel\u001b[39m.\u001b[39mtrain_inputs[\u001b[39m0\u001b[39m]\n\u001b[0;32m---> 42\u001b[0m     \u001b[39mself\u001b[39m\u001b[39m.\u001b[39mgp_kernel \u001b[39m=\u001b[39m (torch\u001b[39m.\u001b[39mdiag(model\u001b[39m.\u001b[39mcovar_module\u001b[39m.\u001b[39mbase_kernel\u001b[39m.\u001b[39mlengthscale[\u001b[39m0\u001b[39m]\u001b[39m.\u001b[39mdetach()\u001b[39m.\u001b[39mclone()))\u001b[39m*\u001b[39m\u001b[39m*\u001b[39m\u001b[39m2\u001b[39m\n\u001b[1;32m     43\u001b[0m     \u001b[39mself\u001b[39m\u001b[39m.\u001b[39mcovariance_matrix \u001b[39m=\u001b[39m \u001b[39mself\u001b[39m\u001b[39m.\u001b[39mgp_kernel \u001b[39m+\u001b[39m \u001b[39mself\u001b[39m\u001b[39m.\u001b[39mdistribution\u001b[39m.\u001b[39mcovariance_matrix\n\u001b[1;32m     44\u001b[0m     \u001b[39mself\u001b[39m\u001b[39m.\u001b[39mtheta \u001b[39m=\u001b[39m \u001b[39mself\u001b[39m\u001b[39m.\u001b[39mmodel\u001b[39m.\u001b[39mcovar_module\u001b[39m.\u001b[39moutputscale\n",
      "\u001b[0;31mNameError\u001b[0m: name 'model' is not defined"
     ]
    }
   ],
   "source": [
    "quad_distrib = MultivariateNormal(torch.tensor([0.]), torch.diag(torch.tensor([1.])))\n",
    "m, v = quad.quadrature()\n",
    "print(\"mean quad:\", m)\n",
    "print(\"variance quad:\", v)"
   ]
  },
  {
   "cell_type": "code",
   "execution_count": 21,
   "metadata": {},
   "outputs": [
    {
     "name": "stdout",
     "output_type": "stream",
     "text": [
      "mean quad: tensor(-0.7149, grad_fn=<AddBackward0>)\n",
      "variance quad: tensor(0.0015, grad_fn=<SubBackward0>)\n"
     ]
    }
   ],
   "source": [
    "quad_distrib = MultivariateNormal(torch.tensor([0.]), torch.diag(torch.tensor([1.01])))\n",
    "m, v = quadrature(model=model, distribution=quad_distrib)\n",
    "print(\"mean quad:\", m)\n",
    "print(\"variance quad:\", v)"
   ]
  },
  {
   "cell_type": "code",
   "execution_count": 7,
   "metadata": {},
   "outputs": [
    {
     "data": {
      "image/png": "[encoded data removed]",
      "text/plain": [
       "<Figure size 640x480 with 1 Axes>"
      ]
     },
     "metadata": {},
     "output_type": "display_data"
    }
   ],
   "source": [
    "plot_GP_fit(model, quad_distrib, train_X, train_Y, obj = lambda x : - x**2, lb=-1., up=1.)"
   ]
  },
  {
   "cell_type": "code",
   "execution_count": null,
   "metadata": {},
   "outputs": [],
   "source": []
  }
 ],
 "metadata": {
  "kernelspec": {
   "display_name": "semisupervised",
   "language": "python",
   "name": "python3"
  },
  "language_info": {
   "codemirror_mode": {
    "name": "ipython",
    "version": 3
   },
   "file_extension": ".py",
   "mimetype": "text/x-python",
   "name": "python",
   "nbconvert_exporter": "python",
   "pygments_lexer": "ipython3",
   "version": "3.10.9"
  },
  "orig_nbformat": 4
 },
 "nbformat": 4,
 "nbformat_minor": 2
}
