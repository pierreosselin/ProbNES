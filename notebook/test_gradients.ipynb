{
 "cells": [
  {
   "cell_type": "code",
   "execution_count": 2,
   "metadata": {},
   "outputs": [
    {
     "name": "stdout",
     "output_type": "stream",
     "text": [
      "/home/pierreo/semisupervised\n"
     ]
    }
   ],
   "source": [
    "cd .."
   ]
  },
  {
   "cell_type": "code",
   "execution_count": 3,
   "metadata": {},
   "outputs": [
    {
     "name": "stderr",
     "output_type": "stream",
     "text": [
      "/home/pierreo/miniconda3/envs/semisupervised/lib/python3.10/site-packages/tqdm/auto.py:21: TqdmWarning: IProgress not found. Please update jupyter and ipywidgets. See https://ipywidgets.readthedocs.io/en/stable/user_install.html\n",
      "  from .autonotebook import tqdm as notebook_tqdm\n"
     ]
    }
   ],
   "source": [
    "import numpy as np\n",
    "from typing import Callable, Optional, Tuple\n",
    "from module.quadrature import Quadrature, QuadratureExploration, QuadratureExplorationBis\n",
    "from botorch import fit_gpytorch_mll\n",
    "from botorch.models import SingleTaskGP\n",
    "import torch\n",
    "from gpytorch.mlls import ExactMarginalLogLikelihood\n",
    "from torch.distributions.multivariate_normal import MultivariateNormal\n",
    "import matplotlib.pyplot as plt\n",
    "import scipy.stats as stats\n",
    "from gpytorch.kernels import RBFKernel\n",
    "from gpytorch.kernels.scale_kernel import ScaleKernel\n",
    "from gpytorch.priors.torch_priors import GammaPrior\n",
    "import geoopt\n"
   ]
  },
  {
   "cell_type": "code",
   "execution_count": 10,
   "metadata": {},
   "outputs": [
    {
     "name": "stderr",
     "output_type": "stream",
     "text": [
      "/home/pierreo/miniconda3/envs/semisupervised/lib/python3.10/site-packages/botorch/models/gpytorch.py:129: UserWarning: The model inputs are of type torch.float32. It is strongly recommended to use double precision in BoTorch, as this improves both precision and stability and can help avoid numerical errors. See https://github.com/pytorch/botorch/discussions/1444\n",
      "  warnings.warn(_get_single_precision_warning(X.dtype), UserWarning)\n",
      "/home/pierreo/miniconda3/envs/semisupervised/lib/python3.10/site-packages/botorch/models/utils/assorted.py:173: InputDataWarning: Input data is not contained to the unit cube. Please consider min-max scaling the input data.\n",
      "  warnings.warn(msg, InputDataWarning)\n",
      "/home/pierreo/miniconda3/envs/semisupervised/lib/python3.10/site-packages/botorch/models/utils/assorted.py:201: InputDataWarning: Input data is not standardized. Please consider scaling the input to zero mean and unit variance.\n",
      "  warnings.warn(msg, InputDataWarning)\n"
     ]
    }
   ],
   "source": [
    "\n",
    "quad_distrib = MultivariateNormal(torch.tensor([1., 0.5]), torch.diag(torch.tensor([0.2, 0.2])))\n",
    "train_X = torch.linspace(-3,3, 10).reshape(5,2)\n",
    "train_Y = (-(train_X)**2 + 1.).sum(dim=1, keepdim=True)\n",
    "covar_module = ScaleKernel(\n",
    "                RBFKernel(\n",
    "                    ard_num_dims=train_X.shape[-1],\n",
    "                    batch_shape=None,\n",
    "                    lengthscale_prior=GammaPrior(3.0, 6.0),\n",
    "                ),\n",
    "                batch_shape=None,\n",
    "                outputscale_prior=GammaPrior(2.0, 0.15),\n",
    "            )\n",
    "\n",
    "model = SingleTaskGP(train_X, train_Y, covar_module=covar_module)\n",
    "mll = ExactMarginalLogLikelihood(model.likelihood, model)\n",
    "fit_gpytorch_mll(mll)\n",
    "\n",
    "quad = Quadrature(model=model,\n",
    "            distribution=quad_distrib)"
   ]
  },
  {
   "cell_type": "markdown",
   "metadata": {},
   "source": [
    "# Compare gradient analytic vs. autodiff vs. geoopt autodiff euclidean vs. geoopt autodiff manifold"
   ]
  },
  {
   "cell_type": "code",
   "execution_count": 11,
   "metadata": {},
   "outputs": [
    {
     "name": "stdout",
     "output_type": "stream",
     "text": [
      "Gradient autodiff pytorch:\n",
      "mu: tensor([-0.3725,  0.2864])\n",
      "epsilon: tensor([[0.5159, 0.0997],\n",
      "        [0.0997, 0.3543]])\n",
      "Gradient analytic:\n",
      "mu: tensor([-0.3725,  0.2864])\n",
      "epsilon: tensor([[0.5159, 0.0997],\n",
      "        [0.0997, 0.3543]])\n",
      "Gradient autodiff manifold spd geoopt:\n",
      "mu: tensor([-0.3725,  0.2864])\n",
      "epsilon: tensor([[0.5159, 0.0997],\n",
      "        [0.0997, 0.3543]])\n",
      "Gradient autodiff pytorch:\n",
      "mu: tensor([-0.3725,  0.2864])\n",
      "epsilon: tensor([[0.5159, 0.0997],\n",
      "        [0.0997, 0.3543]])\n"
     ]
    }
   ],
   "source": [
    "## autodiff\n",
    "mean_autodiff, covariance_autodiff = torch.tensor([1., 0.5], requires_grad=True), torch.tensor([[0.2, 0.], [0., 0.2]], requires_grad=True)\n",
    "m, v = quad._quadrature(mean_autodiff, covariance_autodiff)\n",
    "m.backward()\n",
    "\n",
    "\n",
    "## Analytic\n",
    "quad.gradient_direction()\n",
    "\n",
    "### Manifold spd gradients\n",
    "euclidean = geoopt.manifolds.Euclidean()\n",
    "spd = geoopt.manifolds.SymmetricPositiveDefinite()\n",
    "manifold = geoopt.manifolds.ProductManifold((euclidean, 2), (spd, (2,2)))\n",
    "\n",
    "t = torch.zeros(6)\n",
    "t[0], t[1], t[2], t[5] = 1., 0.5, 0.2, 0.2\n",
    "t.requires_grad = True\n",
    "mani_tensor = geoopt.ManifoldTensor(t, manifold=manifold, requires_grad=True)\n",
    "m, v = quad._quadrature(manifold.take_submanifold_value(mani_tensor, 0), manifold.take_submanifold_value(mani_tensor, 1))\n",
    "m.backward()\n",
    "\n",
    "### Manifold euclidean gradients\n",
    "euclidean = geoopt.manifolds.Euclidean()\n",
    "manifold = geoopt.manifolds.ProductManifold((euclidean, 2), (euclidean, (2,2)))\n",
    "\n",
    "t = torch.zeros(6)\n",
    "t[0], t[1], t[2], t[5] = 1., 0.5, 0.2, 0.2\n",
    "t.requires_grad = True\n",
    "mani_tensor_euclidean = geoopt.ManifoldTensor(t, manifold=manifold, requires_grad=True)\n",
    "m, v = quad._quadrature(manifold.take_submanifold_value(mani_tensor_euclidean, 0), manifold.take_submanifold_value(mani_tensor_euclidean, 1))\n",
    "m.backward()\n",
    "\n",
    "\n",
    "print(\"Gradient autodiff pytorch:\")\n",
    "print(\"mu:\", mean_autodiff.grad)\n",
    "print(\"epsilon:\", covariance_autodiff.grad)\n",
    "\n",
    "print(\"Gradient analytic:\")\n",
    "print(\"mu:\", quad.d_mu)\n",
    "print(\"epsilon:\", quad.d_epsilon)\n",
    "\n",
    "print(\"Gradient autodiff manifold spd geoopt:\")\n",
    "print(\"mu:\", manifold.take_submanifold_value(mani_tensor.grad, 0))\n",
    "print(\"epsilon:\", manifold.take_submanifold_value(mani_tensor.grad, 1))\n",
    "\n",
    "print(\"Gradient autodiff pytorch:\")\n",
    "print(\"mu:\", manifold.take_submanifold_value(mani_tensor_euclidean.grad, 0))\n",
    "print(\"epsilon:\", manifold.take_submanifold_value(mani_tensor_euclidean.grad, 1))"
   ]
  },
  {
   "cell_type": "code",
   "execution_count": 17,
   "metadata": {},
   "outputs": [],
   "source": [
    "## autodiff\n",
    "mean_autodiff, covariance_autodiff = torch.tensor([1., 0.5], requires_grad=True), torch.tensor([[0.2, 0.], [0., 0.2]], requires_grad=True)\n",
    "m, v = quad._quadrature(mean_autodiff, covariance_autodiff)\n",
    "m.backward()\n"
   ]
  },
  {
   "cell_type": "code",
   "execution_count": 18,
   "metadata": {},
   "outputs": [
    {
     "data": {
      "text/plain": [
       "tensor([[0.5159, 0.0997],\n",
       "        [0.0997, 0.3543]])"
      ]
     },
     "execution_count": 18,
     "metadata": {},
     "output_type": "execute_result"
    }
   ],
   "source": [
    "covariance_autodiff.grad"
   ]
  },
  {
   "cell_type": "markdown",
   "metadata": {},
   "source": [
    "## Test gradient quadrature with vs. without manifold structure input space"
   ]
  },
  {
   "cell_type": "code",
   "execution_count": 78,
   "metadata": {},
   "outputs": [],
   "source": [
    "### Manifold gradients\n",
    "euclidean = geoopt.manifolds.Euclidean()\n",
    "spd = geoopt.manifolds.SymmetricPositiveDefinite()\n",
    "manifold = geoopt.manifolds.ProductManifold((euclidean, 2), (spd, (2,2)))\n",
    "\n",
    "t = torch.zeros(6)\n",
    "t[2], t[5] = .1, .1\n",
    "t.requires_grad = True\n",
    "\n",
    "mani_tensor = geoopt.ManifoldTensor(t, manifold=manifold)\n",
    "param = geoopt.ManifoldParameter(mani_tensor)"
   ]
  },
  {
   "cell_type": "code",
   "execution_count": 79,
   "metadata": {},
   "outputs": [],
   "source": [
    "m, v = quad._quadrature(manifold.take_submanifold_value(param, 0), manifold.take_submanifold_value(param, 1))"
   ]
  },
  {
   "cell_type": "code",
   "execution_count": 80,
   "metadata": {},
   "outputs": [],
   "source": [
    "m.backward()"
   ]
  },
  {
   "cell_type": "code",
   "execution_count": 81,
   "metadata": {},
   "outputs": [
    {
     "data": {
      "text/plain": [
       "tensor([-2.1763,  2.1762, -1.5402, -1.7121, -1.7121, -1.5402])"
      ]
     },
     "execution_count": 81,
     "metadata": {},
     "output_type": "execute_result"
    }
   ],
   "source": [
    "param.grad"
   ]
  },
  {
   "cell_type": "code",
   "execution_count": 82,
   "metadata": {},
   "outputs": [
    {
     "data": {
      "text/plain": [
       "tensor([-2.1763,  2.1762, -1.5402, -1.7121, -1.7121, -1.5402])"
      ]
     },
     "execution_count": 82,
     "metadata": {},
     "output_type": "execute_result"
    }
   ],
   "source": [
    "### Euclidean vanilla gradient\n",
    "t = torch.zeros(6)\n",
    "t[2], t[5] = .1, .1\n",
    "t.requires_grad = True\n",
    "\n",
    "mani_tensor = geoopt.ManifoldTensor(t)\n",
    "param = geoopt.ManifoldParameter(mani_tensor)\n",
    "\n",
    "m, v = quad._quadrature(manifold.take_submanifold_value(param, 0), manifold.take_submanifold_value(param, 1))\n",
    "m.backward()\n",
    "param.grad\n",
    "\n",
    "param.grad.zero_()\n",
    "m, v = quad._quadrature(manifold.take_submanifold_value(param, 0), manifold.take_submanifold_value(param, 1))\n",
    "m.backward()\n",
    "param.grad"
   ]
  },
  {
   "cell_type": "code",
   "execution_count": 67,
   "metadata": {},
   "outputs": [],
   "source": [
    "#### Comparison with implementation\n",
    "\n",
    "\n",
    "quad.quadrature()\n",
    "quad.gradient_direction()\n"
   ]
  },
  {
   "cell_type": "code",
   "execution_count": 68,
   "metadata": {},
   "outputs": [
    {
     "data": {
      "text/plain": [
       "tensor([[-0.1402,  0.0328],\n",
       "        [ 0.0328, -0.1402]])"
      ]
     },
     "execution_count": 68,
     "metadata": {},
     "output_type": "execute_result"
    }
   ],
   "source": [
    "quad.d_epsilon"
   ]
  },
  {
   "cell_type": "code",
   "execution_count": 71,
   "metadata": {},
   "outputs": [
    {
     "data": {
      "text/plain": [
       "tensor([0., 0., 0., 0., 0., 0.])"
      ]
     },
     "execution_count": 71,
     "metadata": {},
     "output_type": "execute_result"
    }
   ],
   "source": [
    "param.grad.zero_()"
   ]
  },
  {
   "cell_type": "code",
   "execution_count": 72,
   "metadata": {},
   "outputs": [
    {
     "data": {
      "text/plain": [
       "tensor([0., 0., 0., 0., 0., 0.])"
      ]
     },
     "execution_count": 72,
     "metadata": {},
     "output_type": "execute_result"
    }
   ],
   "source": [
    "param.grad"
   ]
  },
  {
   "cell_type": "markdown",
   "metadata": {},
   "source": [
    "## 1d"
   ]
  },
  {
   "cell_type": "code",
   "execution_count": 8,
   "metadata": {},
   "outputs": [
    {
     "name": "stderr",
     "output_type": "stream",
     "text": [
      "/home/pierreo/miniconda3/envs/semisupervised/lib/python3.10/site-packages/botorch/models/gpytorch.py:129: UserWarning: The model inputs are of type torch.float32. It is strongly recommended to use double precision in BoTorch, as this improves both precision and stability and can help avoid numerical errors. See https://github.com/pytorch/botorch/discussions/1444\n",
      "  warnings.warn(_get_single_precision_warning(X.dtype), UserWarning)\n",
      "/home/pierreo/miniconda3/envs/semisupervised/lib/python3.10/site-packages/botorch/models/utils/assorted.py:173: InputDataWarning: Input data is not contained to the unit cube. Please consider min-max scaling the input data.\n",
      "  warnings.warn(msg, InputDataWarning)\n",
      "/home/pierreo/miniconda3/envs/semisupervised/lib/python3.10/site-packages/botorch/models/utils/assorted.py:201: InputDataWarning: Input data is not standardized. Please consider scaling the input to zero mean and unit variance.\n",
      "  warnings.warn(msg, InputDataWarning)\n"
     ]
    }
   ],
   "source": [
    "\n",
    "quad_distrib = MultivariateNormal(torch.tensor([1.]), torch.diag(torch.tensor([0.2])))\n",
    "train_X = torch.linspace(-3,3, 10).reshape(-1,1)\n",
    "train_Y = (-(train_X)**2 + 1.).sum(dim=1, keepdim=True)\n",
    "covar_module = ScaleKernel(\n",
    "                RBFKernel(\n",
    "                    ard_num_dims=train_X.shape[-1],\n",
    "                    batch_shape=None,\n",
    "                    lengthscale_prior=GammaPrior(3.0, 6.0),\n",
    "                ),\n",
    "                batch_shape=None,\n",
    "                outputscale_prior=GammaPrior(2.0, 0.15),\n",
    "            )\n",
    "\n",
    "model = SingleTaskGP(train_X, train_Y, covar_module=covar_module)\n",
    "mll = ExactMarginalLogLikelihood(model.likelihood, model)\n",
    "fit_gpytorch_mll(mll)\n",
    "\n",
    "quad = Quadrature(model=model,\n",
    "            distribution=quad_distrib)"
   ]
  },
  {
   "cell_type": "code",
   "execution_count": 9,
   "metadata": {},
   "outputs": [
    {
     "name": "stdout",
     "output_type": "stream",
     "text": [
      "Gradient autodiff pytorch:\n",
      "mu: tensor([-1.9981])\n",
      "epsilon: tensor([[-0.9913]])\n",
      "Gradient analytic:\n",
      "mu: tensor([-1.9981])\n",
      "epsilon: tensor([[-0.9913]])\n",
      "Gradient autodiff manifold spd geoopt:\n",
      "mu: tensor([-1.9981])\n",
      "epsilon: tensor([[-0.9913]])\n",
      "Gradient autodiff pytorch:\n",
      "mu: tensor([-1.9981])\n",
      "epsilon: tensor([[-0.9913]])\n"
     ]
    }
   ],
   "source": [
    "## autodiff\n",
    "mean_autodiff, covariance_autodiff = torch.tensor([1.], requires_grad=True), torch.tensor([[0.2]], requires_grad=True)\n",
    "m, v = quad._quadrature(mean_autodiff, covariance_autodiff)\n",
    "m.backward()\n",
    "\n",
    "\n",
    "## Analytic\n",
    "quad.gradient_direction()\n",
    "\n",
    "### Manifold spd gradients\n",
    "euclidean = geoopt.manifolds.Euclidean()\n",
    "spd = geoopt.manifolds.SymmetricPositiveDefinite()\n",
    "manifold = geoopt.manifolds.ProductManifold((euclidean, 1), (spd, (1,1)))\n",
    "\n",
    "t = torch.zeros(2)\n",
    "t[0], t[1]= 1., 0.2\n",
    "t.requires_grad = True\n",
    "mani_tensor = geoopt.ManifoldTensor(t, manifold=manifold, requires_grad=True)\n",
    "m, v = quad._quadrature(manifold.take_submanifold_value(mani_tensor, 0), manifold.take_submanifold_value(mani_tensor, 1))\n",
    "m.backward()\n",
    "\n",
    "### Manifold euclidean gradients\n",
    "euclidean = geoopt.manifolds.Euclidean()\n",
    "manifold = geoopt.manifolds.ProductManifold((euclidean, 1), (euclidean, (1,1)))\n",
    "\n",
    "t = torch.zeros(2)\n",
    "t[0], t[1]= 1., 0.2\n",
    "t.requires_grad = True\n",
    "mani_tensor_euclidean = geoopt.ManifoldTensor(t, manifold=manifold, requires_grad=True)\n",
    "m, v = quad._quadrature(manifold.take_submanifold_value(mani_tensor_euclidean, 0), manifold.take_submanifold_value(mani_tensor_euclidean, 1))\n",
    "m.backward()\n",
    "\n",
    "\n",
    "print(\"Gradient autodiff pytorch:\")\n",
    "print(\"mu:\", mean_autodiff.grad)\n",
    "print(\"epsilon:\", covariance_autodiff.grad)\n",
    "\n",
    "print(\"Gradient analytic:\")\n",
    "print(\"mu:\", quad.d_mu)\n",
    "print(\"epsilon:\", quad.d_epsilon)\n",
    "\n",
    "print(\"Gradient autodiff manifold spd geoopt:\")\n",
    "print(\"mu:\", manifold.take_submanifold_value(mani_tensor.grad, 0))\n",
    "print(\"epsilon:\", manifold.take_submanifold_value(mani_tensor.grad, 1))\n",
    "\n",
    "print(\"Gradient autodiff pytorch:\")\n",
    "print(\"mu:\", manifold.take_submanifold_value(mani_tensor_euclidean.grad, 0))\n",
    "print(\"epsilon:\", manifold.take_submanifold_value(mani_tensor_euclidean.grad, 1))"
   ]
  },
  {
   "cell_type": "code",
   "execution_count": 84,
   "metadata": {},
   "outputs": [
    {
     "name": "stderr",
     "output_type": "stream",
     "text": [
      "/home/pierreo/miniconda3/envs/semisupervised/lib/python3.10/site-packages/botorch/models/gpytorch.py:129: UserWarning: The model inputs are of type torch.float32. It is strongly recommended to use double precision in BoTorch, as this improves both precision and stability and can help avoid numerical errors. See https://github.com/pytorch/botorch/discussions/1444\n",
      "  warnings.warn(_get_single_precision_warning(X.dtype), UserWarning)\n",
      "/home/pierreo/miniconda3/envs/semisupervised/lib/python3.10/site-packages/botorch/models/utils/assorted.py:173: InputDataWarning: Input data is not contained to the unit cube. Please consider min-max scaling the input data.\n",
      "  warnings.warn(msg, InputDataWarning)\n",
      "/home/pierreo/miniconda3/envs/semisupervised/lib/python3.10/site-packages/botorch/models/utils/assorted.py:201: InputDataWarning: Input data is not standardized. Please consider scaling the input to zero mean and unit variance.\n",
      "  warnings.warn(msg, InputDataWarning)\n"
     ]
    }
   ],
   "source": [
    "\n",
    "quad_distrib = MultivariateNormal(torch.tensor([0.]), torch.diag(torch.tensor([1.])))\n",
    "train_X = torch.linspace(-3,3, 10).reshape(-1,1)\n",
    "train_Y = (-(train_X)**2 + 1.).sum(dim=1, keepdim=True)\n",
    "covar_module = ScaleKernel(\n",
    "                RBFKernel(\n",
    "                    ard_num_dims=train_X.shape[-1],\n",
    "                    batch_shape=None,\n",
    "                    lengthscale_prior=GammaPrior(3.0, 6.0),\n",
    "                ),\n",
    "                batch_shape=None,\n",
    "                outputscale_prior=GammaPrior(2.0, 0.15),\n",
    "            )\n",
    "\n",
    "model = SingleTaskGP(train_X, train_Y, covar_module=covar_module)\n",
    "mll = ExactMarginalLogLikelihood(model.likelihood, model)\n",
    "fit_gpytorch_mll(mll)\n",
    "\n",
    "quad = Quadrature(model=model,\n",
    "            distribution=quad_distrib)"
   ]
  },
  {
   "cell_type": "code",
   "execution_count": 86,
   "metadata": {},
   "outputs": [
    {
     "data": {
      "text/plain": [
       "tensor([ 6.1035e-05, -1.0131e+00])"
      ]
     },
     "execution_count": 86,
     "metadata": {},
     "output_type": "execute_result"
    }
   ],
   "source": [
    "## Test gradient quadrature with vs. without manifold structure input space\n",
    "### Manifold gradients\n",
    "euclidean = geoopt.manifolds.Euclidean()\n",
    "spd = geoopt.manifolds.SymmetricPositiveDefinite()\n",
    "manifold = geoopt.manifolds.ProductManifold((euclidean, 1), (spd, (1,1)))\n",
    "\n",
    "t = torch.zeros(2)\n",
    "t[1] = .1\n",
    "t.requires_grad = True\n",
    "\n",
    "mani_tensor = geoopt.ManifoldTensor(t, manifold=manifold)\n",
    "param = geoopt.ManifoldParameter(mani_tensor)\n",
    "m, v = quad._quadrature(manifold.take_submanifold_value(param, 0), manifold.take_submanifold_value(param, 1))\n",
    "m.backward()\n",
    "param.grad\n",
    "\n"
   ]
  },
  {
   "cell_type": "code",
   "execution_count": 87,
   "metadata": {},
   "outputs": [
    {
     "data": {
      "text/plain": [
       "(tensor([0.]), tensor([[-0.9972]]))"
      ]
     },
     "execution_count": 87,
     "metadata": {},
     "output_type": "execute_result"
    }
   ],
   "source": [
    "\n",
    "quad.quadrature()\n",
    "quad.gradient_direction()\n",
    "quad.d_mu, quad.d_epsilon"
   ]
  },
  {
   "cell_type": "code",
   "execution_count": null,
   "metadata": {},
   "outputs": [],
   "source": [
    "### Euclidean vanilla gradient\n",
    "t = torch.zeros(6)\n",
    "t[2], t[5] = .1, .1\n",
    "t.requires_grad = True\n",
    "\n",
    "mani_tensor = geoopt.ManifoldTensor(t)\n",
    "param = geoopt.ManifoldParameter(mani_tensor)\n",
    "\n",
    "m, v = quad._quadrature(manifold.take_submanifold_value(param, 0), manifold.take_submanifold_value(param, 1))\n",
    "m.backward()\n",
    "param.grad\n",
    "\n",
    "param.grad.zero_()\n",
    "m, v = quad._quadrature(manifold.take_submanifold_value(param, 0), manifold.take_submanifold_value(param, 1))\n",
    "m.backward()\n",
    "param.grad"
   ]
  }
 ],
 "metadata": {
  "kernelspec": {
   "display_name": "semisupervised",
   "language": "python",
   "name": "python3"
  },
  "language_info": {
   "codemirror_mode": {
    "name": "ipython",
    "version": 3
   },
   "file_extension": ".py",
   "mimetype": "text/x-python",
   "name": "python",
   "nbconvert_exporter": "python",
   "pygments_lexer": "ipython3",
   "version": "3.10.12"
  },
  "orig_nbformat": 4
 },
 "nbformat": 4,
 "nbformat_minor": 2
}
